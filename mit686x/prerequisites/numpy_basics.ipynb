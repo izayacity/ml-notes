{
 "cells": [
  {
   "cell_type": "markdown",
   "source": [
    "Randomization\n",
    "\n",
    "Write a function called randomization that takes as input a positive integer n, and returns A, a random n x 1 Numpy array."
   ],
   "metadata": {
    "collapsed": false
   }
  },
  {
   "cell_type": "code",
   "execution_count": 1,
   "outputs": [],
   "source": [
    "import numpy as np\n",
    "\n",
    "def randomization(n):\n",
    "    \"\"\"\n",
    "    Arg:\n",
    "      n - an integer\n",
    "    Returns:\n",
    "      A - a randomly-generated nx1 Numpy array.\n",
    "    \"\"\"\n",
    "    return (np.random.rand(n, 1))"
   ],
   "metadata": {
    "collapsed": false
   }
  },
  {
   "cell_type": "markdown",
   "source": [
    "Operations\n",
    "\n",
    "Write a function called operations that takes as input two positive integers h and w, makes two random matrices A and B, of size h x w, and returns A,B, and s, the sum of A and B."
   ],
   "metadata": {
    "collapsed": false
   }
  },
  {
   "cell_type": "code",
   "execution_count": 2,
   "outputs": [],
   "source": [
    "def operations(h, w):\n",
    "    \"\"\"\n",
    "    Takes two inputs, h and w, and makes two Numpy arrays A and B of size\n",
    "    h x w, and returns A, B, and s, the sum of A and B.\n",
    "\n",
    "    Arg:\n",
    "      h - an integer describing the height of A and B\n",
    "      w - an integer describing the width of A and B\n",
    "    Returns (in this order):\n",
    "      A - a randomly-generated h x w Numpy array.\n",
    "      B - a randomly-generated h x w Numpy array.\n",
    "      s - the sum of A and B.\n",
    "    \"\"\"\n",
    "    A = np.random.rand(h, w)\n",
    "    B = np.random.rand(h, w)\n",
    "    return (A, B, A + B)"
   ],
   "metadata": {
    "collapsed": false
   }
  },
  {
   "cell_type": "markdown",
   "source": [
    "Norm\n",
    "\n",
    "Write a function called norm that takes as input two Numpy column arrays A and B, adds them, and returns s, the L2 norm of their sum."
   ],
   "metadata": {
    "collapsed": false
   }
  },
  {
   "cell_type": "code",
   "execution_count": 3,
   "outputs": [],
   "source": [
    "def norm(A, B):\n",
    "    \"\"\"\n",
    "    Takes two Numpy column arrays, A and B, and returns the L2 norm of their\n",
    "    sum.\n",
    "\n",
    "    Arg:\n",
    "      A - a Numpy array\n",
    "      B - a Numpy array\n",
    "    Returns:\n",
    "      s - the L2 norm of A+B.\n",
    "    \"\"\"\n",
    "    return (np.linalg.norm(A + B))"
   ],
   "metadata": {
    "collapsed": false
   }
  },
  {
   "cell_type": "markdown",
   "source": [
    "Neural Network\n",
    "\n",
    "Here, we will write a function neural_network, which will apply a neural network operation with 2 inputs and 1 output and a given weight matrix.\n",
    "\n",
    "Your function should take two arguments: inputs and weights, two NumPy arrays of shape  and should return a NumPy array of shape , the output of the neural network. Do not forget the  activation.\n",
    "\n",
    "The inputs are given by x, and the outputs are given by z1. Here, w11 is the weight of input 1 on output 1 (our only output in this case), and w21 is the weight of input 2 on output 1. In general, w_ij represents the weight of input i on output j.\n",
    "\n",
    "The output, z1, is given by:\n",
    "![title](img/images_basic_nn_product1.png)\n",
    "\n",
    "where f is a specified nonlinear function, and it is usually the hyperbolic tangent function, tanh.\n",
    "\n",
    "If we express our inputs and weights as matrices, as shown here,\n",
    "![title](img/images_basic_nn_product_matrices.png)\n",
    "\n",
    "then we can develop an elegant mathematical expression:\n",
    "z1 = tanh(w^T * x')"
   ],
   "metadata": {
    "collapsed": false
   }
  },
  {
   "cell_type": "code",
   "execution_count": 4,
   "outputs": [],
   "source": [
    "def neural_network(inputs, weights):\n",
    "    \"\"\"\n",
    "     Takes an input vector and runs it through a 1-layer neural network\n",
    "     with a given weight matrix and returns the output.\n",
    "\n",
    "     Arg:\n",
    "       inputs - 2 x 1 NumPy array\n",
    "       weights - 2 x 1 NumPy array\n",
    "     Returns (in this order):\n",
    "       out - a 1 x 1 NumPy array, representing the output of the neural network\n",
    "    \"\"\"\n",
    "    wT = np.transpose(weights)\n",
    "    prod = np.matmul(wT, inputs)\n",
    "    out = np.tanh(prod)\n",
    "    return (out)\n",
    "    # Alternatively:\n",
    "    # return np.tanh(weights.T @ inputs)\n",
    "    # or even:\n",
    "    # return np.tanh(np.dot(inputs.T, weights))"
   ],
   "metadata": {
    "collapsed": false
   }
  },
  {
   "cell_type": "markdown",
   "source": [
    "Vector function\n",
    "\n",
    "scalar_function can only handle scalar input, we could use the function np.vectorize() turn it into a vectorized function. Note that the input argument of np.vectorize() should be a scalar function, and the output of np.vectorize() is a new function that can handle vector input.\n",
    "\n",
    "Please write a vector function vector_function, which will apply the operation f(x, y) defined above element-wisely with input vectors with same dimension x and y."
   ],
   "metadata": {
    "collapsed": false
   }
  },
  {
   "cell_type": "code",
   "execution_count": 5,
   "outputs": [],
   "source": [
    "def scalar_function(x, y):\n",
    "    \"\"\"\n",
    "    Returns the f(x,y) defined in the problem statement.\n",
    "    \"\"\"\n",
    "    if x <= y:\n",
    "        return x*y\n",
    "    else:\n",
    "        return x/y\n",
    "\n",
    "def vector_function(x, y):\n",
    "    \"\"\"\n",
    "    Make sure vector_function can deal with vector input x,y\n",
    "    \"\"\"\n",
    "    return np.vectorize(scalar_function(x,y))"
   ],
   "metadata": {
    "collapsed": false
   }
  },
  {
   "cell_type": "code",
   "execution_count": null,
   "outputs": [],
   "source": [],
   "metadata": {
    "collapsed": false
   }
  }
 ],
 "metadata": {
  "kernelspec": {
   "display_name": "Python 3",
   "language": "python",
   "name": "python3"
  },
  "language_info": {
   "codemirror_mode": {
    "name": "ipython",
    "version": 2
   },
   "file_extension": ".py",
   "mimetype": "text/x-python",
   "name": "python",
   "nbconvert_exporter": "python",
   "pygments_lexer": "ipython2",
   "version": "2.7.6"
  }
 },
 "nbformat": 4,
 "nbformat_minor": 0
}
