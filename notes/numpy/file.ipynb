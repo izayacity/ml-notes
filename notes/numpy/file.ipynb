{
 "cells": [
  {
   "cell_type": "markdown",
   "id": "923a6ff0-51ab-4864-ad2f-b007fee10aba",
   "metadata": {},
   "source": [
    "## saving file\n",
    "After performing data manipulation with NumPy, it's a good idea to save the data in a file for future use. To do this, we use the np.save function.\n",
    "\n",
    "The first argument for the function is the name/path of the file we want to save our data to. The file name/path should have a \".npy\" extension. If it does not, then np.save will append the \".npy\" extension to it.\n",
    "\n",
    "The second argument for np.save is the NumPy data we want to save. The function has no return value. Also, the format of the \".npy\" files when viewed with a text editor is largely gibberish when viewed with a text editor.\n",
    "\n",
    "If np.save is called with the name of a file that already exists, it will overwrite the previous file."
   ]
  },
  {
   "cell_type": "code",
   "execution_count": 8,
   "id": "f45b7c95-c164-4b6e-9907-bb2f6988159c",
   "metadata": {},
   "outputs": [],
   "source": [
    "import numpy as np\n",
    "\n",
    "arr = np.array([1, 2, 3])\n",
    "# Saves to 'arr.npy'\n",
    "np.save('arr.npy', arr)\n",
    "# Also saves to 'arr.npy'\n",
    "np.save('arr', arr)"
   ]
  },
  {
   "cell_type": "markdown",
   "id": "b53e1891-52de-40bf-aa22-84de683f315e",
   "metadata": {},
   "source": [
    "## loading\n",
    "\n",
    "After saving our data, we can load it again using np.load. The function's required argument is the file name/path that contains the saved data. It returns the NumPy data exactly as it was saved.\n",
    "\n",
    "Note that np.load will not append the \".npy\" extension to the file name/path if it is not there."
   ]
  },
  {
   "cell_type": "code",
   "execution_count": 9,
   "id": "7cc742e0-9324-448f-bc50-273989b03c36",
   "metadata": {},
   "outputs": [
    {
     "name": "stdout",
     "output_type": "stream",
     "text": [
      "array([1, 2, 3])\n"
     ]
    }
   ],
   "source": [
    "arr = np.array([1, 2, 3])\n",
    "np.save('arr.npy', arr)\n",
    "load_arr = np.load('arr.npy')\n",
    "print(repr(load_arr))\n",
    "\n",
    "# Will result in a FileNotFoundError: If we uncomment line 7 and run again.\n",
    "#load_arr = np.load('arr')"
   ]
  },
  {
   "cell_type": "code",
   "execution_count": null,
   "id": "aad87914-c27d-4e96-bcce-4b84b6eff718",
   "metadata": {},
   "outputs": [],
   "source": []
  }
 ],
 "metadata": {
  "kernelspec": {
   "display_name": "Python 3 (ipykernel)",
   "language": "python",
   "name": "python3"
  },
  "language_info": {
   "codemirror_mode": {
    "name": "ipython",
    "version": 3
   },
   "file_extension": ".py",
   "mimetype": "text/x-python",
   "name": "python",
   "nbconvert_exporter": "python",
   "pygments_lexer": "ipython3",
   "version": "3.8.2"
  }
 },
 "nbformat": 4,
 "nbformat_minor": 5
}
