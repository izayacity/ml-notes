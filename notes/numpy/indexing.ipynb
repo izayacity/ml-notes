{
 "cells": [
  {
   "cell_type": "markdown",
   "id": "2bb1df24-9dea-46e8-804f-982c01e6b3dd",
   "metadata": {},
   "source": [
    "## Slicing\n",
    "For multi-dimensional arrays, we can use a comma to separate slices across each dimension.\n",
    "The code below shows example slices of a 2-D NumPy array."
   ]
  },
  {
   "cell_type": "code",
   "execution_count": 2,
   "id": "61f907b6-07f8-4afb-90c5-aba25b877291",
   "metadata": {},
   "outputs": [
    {
     "name": "stdout",
     "output_type": "stream",
     "text": [
      "array([[1, 2, 3],\n",
      "       [4, 5, 6],\n",
      "       [7, 8, 9]])\n",
      "array([[4, 5, 6],\n",
      "       [7, 8, 9]])\n",
      "array([3, 6, 9])\n",
      "array([[2, 3],\n",
      "       [5, 6],\n",
      "       [8, 9]])\n",
      "array([[2, 3]])\n",
      "array([2, 3])\n"
     ]
    }
   ],
   "source": [
    "import numpy as np\n",
    "\n",
    "arr = np.array([[1, 2, 3],\n",
    "                [4, 5, 6],\n",
    "                [7, 8, 9]])\n",
    "print(repr(arr[:]))\n",
    "print(repr(arr[1:]))\n",
    "print(repr(arr[:, -1]))\n",
    "print(repr(arr[:, 1:]))\n",
    "print(repr(arr[0:1, 1:]))\n",
    "print(repr(arr[0, 1:]))"
   ]
  },
  {
   "cell_type": "markdown",
   "id": "ec6a9305-a680-4a6f-b763-b0b2854ecf08",
   "metadata": {},
   "source": [
    "## Argmin and argmax\n",
    "In addition to accessing and slicing arrays, it is useful to figure out the actual indexes of the minimum and maximum elements. To do this, we use the np.argmin and np.argmax functions.\n",
    "\n",
    "The np.argmin and np.argmax functions take the same arguments. The required argument is the input array and the axis keyword argument specifies which dimension to apply the operation on.\n",
    "- using axis=0 meant the function found the index of the minimum row element for each column.\n",
    "- When we used axis=1, the function found the index of the minimum column element for each row.\n",
    "- Setting axis to -1 just means we apply the function across the last dimension. In this case, axis=-1 is equivalent to axis=1."
   ]
  },
  {
   "cell_type": "code",
   "execution_count": 3,
   "id": "f0f71e28-880d-4a17-a31c-d254e5c5d5d6",
   "metadata": {},
   "outputs": [
    {
     "name": "stdout",
     "output_type": "stream",
     "text": [
      "array([2, 0, 1], dtype=int64)\n",
      "array([2, 2, 0], dtype=int64)\n",
      "array([1, 1, 1], dtype=int64)\n"
     ]
    }
   ],
   "source": [
    "arr = np.array([[-2, -1, -3],\n",
    "                [4, 5, -6],\n",
    "                [-3, 9, 1]])\n",
    "print(repr(np.argmin(arr, axis=0)))\n",
    "print(repr(np.argmin(arr, axis=1)))\n",
    "print(repr(np.argmax(arr, axis=-1)))"
   ]
  },
  {
   "cell_type": "code",
   "execution_count": null,
   "id": "9f587189-1035-4104-bd4c-95c2197efe70",
   "metadata": {},
   "outputs": [],
   "source": []
  }
 ],
 "metadata": {
  "kernelspec": {
   "display_name": "Python 3 (ipykernel)",
   "language": "python",
   "name": "python3"
  },
  "language_info": {
   "codemirror_mode": {
    "name": "ipython",
    "version": 3
   },
   "file_extension": ".py",
   "mimetype": "text/x-python",
   "name": "python",
   "nbconvert_exporter": "python",
   "pygments_lexer": "ipython3",
   "version": "3.8.2"
  }
 },
 "nbformat": 4,
 "nbformat_minor": 5
}
