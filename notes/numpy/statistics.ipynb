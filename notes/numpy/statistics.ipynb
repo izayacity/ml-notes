{
 "cells": [
  {
   "cell_type": "markdown",
   "id": "91d9356e-ca21-40c7-9651-0a82b6242a16",
   "metadata": {},
   "source": [
    "## min, max, mean and median\n",
    "We can obtain minimum and maximum values of a NumPy array using its inherent min and max functions. This gives us an initial sense of the data's range, and can alert us to extreme outliers in the data.\n",
    "\n",
    "For a more comprehensive list of statistical functions (e.g. calculating percentiles, creating histograms, etc.), check out the NumPy statistics page, https://docs.scipy.org/doc/numpy/reference/routines.statistics.html."
   ]
  },
  {
   "cell_type": "code",
   "execution_count": 6,
   "id": "e3c64d82-84df-42de-93be-d236ec25d49d",
   "metadata": {},
   "outputs": [
    {
     "name": "stdout",
     "output_type": "stream",
     "text": [
      "-60\n",
      "72\n",
      "array([ -3,  -2, -60])\n",
      "array([72,  3,  4])\n",
      "2.0\n",
      "977.3333333333334\n",
      "1.0\n",
      "array([ 3.,  1., -2.])\n",
      "18\n",
      "array([ -2,  73, -53])\n",
      "array([ 75, -56,  -1])\n",
      "array([ 0, 72, 75, 76, 79, 19, 16, 14, 18])\n",
      "array([[  0,  72,   3],\n",
      "       [  1,  75, -57],\n",
      "       [ -2,  73, -53]])\n",
      "array([[  0,  72,  75],\n",
      "       [  1,   4, -56],\n",
      "       [ -3,  -5,  -1]])\n"
     ]
    }
   ],
   "source": [
    "import numpy as np\n",
    "\n",
    "\n",
    "arr = np.array([[0, 72, 3],\n",
    "                [1, 3, -60],\n",
    "                [-3, -2, 4]])\n",
    "print(arr.min())\n",
    "print(arr.max())\n",
    "\n",
    "print(repr(arr.min(axis=0)))\n",
    "print(repr(arr.max(axis=-1)))\n",
    "\n",
    "arr = np.array([[0, 72, 3],\n",
    "                [1, 3, -60],\n",
    "                [-3, -2, 4]])\n",
    "print(np.mean(arr))\n",
    "print(np.var(arr))\n",
    "print(np.median(arr))\n",
    "print(repr(np.median(arr, axis=-1)))"
   ]
  },
  {
   "cell_type": "markdown",
   "id": "1887d844-ccce-4429-b06a-6883dd4590ea",
   "metadata": {},
   "source": [
    "## summation"
   ]
  },
  {
   "cell_type": "code",
   "execution_count": 7,
   "id": "d95224eb-3d4c-4b0b-834d-9748c9027fd7",
   "metadata": {},
   "outputs": [
    {
     "name": "stdout",
     "output_type": "stream",
     "text": [
      "18\n",
      "array([ -2,  73, -53])\n",
      "array([ 75, -56,  -1])\n",
      "array([ 0, 72, 75, 76, 79, 19, 16, 14, 18])\n",
      "array([[  0,  72,   3],\n",
      "       [  1,  75, -57],\n",
      "       [ -2,  73, -53]])\n",
      "array([[  0,  72,  75],\n",
      "       [  1,   4, -56],\n",
      "       [ -3,  -5,  -1]])\n"
     ]
    }
   ],
   "source": [
    "arr = np.array([[0, 72, 3],\n",
    "                [1, 3, -60],\n",
    "                [-3, -2, 4]])\n",
    "print(np.sum(arr))\n",
    "print(repr(np.sum(arr, axis=0)))\n",
    "print(repr(np.sum(arr, axis=1)))\n",
    "\n",
    "# prefix sum or cumulative sum\n",
    "arr = np.array([[0, 72, 3],\n",
    "                [1, 3, -60],\n",
    "                [-3, -2, 4]])\n",
    "print(repr(np.cumsum(arr)))\n",
    "print(repr(np.cumsum(arr, axis=0)))\n",
    "print(repr(np.cumsum(arr, axis=1)))"
   ]
  },
  {
   "cell_type": "markdown",
   "id": "74ec0e58-c5f1-4a8d-acba-6c21b887a19e",
   "metadata": {},
   "source": [
    "## concatenation\n",
    "\n",
    "For 2-D arrays, not setting the axis argument (defaults to axis=0) concatenates the arrays vertically. When we set axis=1, the arrays are concatenated horizontally."
   ]
  },
  {
   "cell_type": "code",
   "execution_count": 9,
   "id": "5dfd3928-7a2b-45c1-9ddd-532dc4aea4b4",
   "metadata": {},
   "outputs": [
    {
     "name": "stdout",
     "output_type": "stream",
     "text": [
      "array([[  0,  72,   3],\n",
      "       [  1,   3, -60],\n",
      "       [ -3,  -2,   4],\n",
      "       [-15,   6,   1],\n",
      "       [  8,   9,  -4],\n",
      "       [  5, -21,  18]])\n",
      "array([[  0,  72,   3, -15,   6,   1],\n",
      "       [  1,   3, -60,   8,   9,  -4],\n",
      "       [ -3,  -2,   4,   5, -21,  18]])\n",
      "array([[-15,   6,   1],\n",
      "       [  8,   9,  -4],\n",
      "       [  5, -21,  18],\n",
      "       [  0,  72,   3],\n",
      "       [  1,   3, -60],\n",
      "       [ -3,  -2,   4]])\n"
     ]
    }
   ],
   "source": [
    "arr1 = np.array([[0, 72, 3],\n",
    "                 [1, 3, -60],\n",
    "                 [-3, -2, 4]])\n",
    "arr2 = np.array([[-15, 6, 1],\n",
    "                 [8, 9, -4],\n",
    "                 [5, -21, 18]])\n",
    "print(repr(np.concatenate([arr1, arr2])))\n",
    "print(repr(np.concatenate([arr1, arr2], axis=1)))\n",
    "print(repr(np.concatenate([arr2, arr1], axis=0)))"
   ]
  },
  {
   "cell_type": "code",
   "execution_count": null,
   "id": "11940b41-0c30-4405-bc03-627a0067b613",
   "metadata": {},
   "outputs": [],
   "source": []
  }
 ],
 "metadata": {
  "kernelspec": {
   "display_name": "Python 3 (ipykernel)",
   "language": "python",
   "name": "python3"
  },
  "language_info": {
   "codemirror_mode": {
    "name": "ipython",
    "version": 3
   },
   "file_extension": ".py",
   "mimetype": "text/x-python",
   "name": "python",
   "nbconvert_exporter": "python",
   "pygments_lexer": "ipython3",
   "version": "3.8.2"
  }
 },
 "nbformat": 4,
 "nbformat_minor": 5
}
