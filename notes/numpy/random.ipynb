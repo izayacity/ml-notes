{
 "cells": [
  {
   "cell_type": "markdown",
   "id": "01da6fd0-a65c-42e9-ab14-77d774664d58",
   "metadata": {},
   "source": [
    "## Random integers\n",
    "The np.random.randint function takes in a single required argument, which actually depends on the high keyword argument. If high=None (which is the default value), then the required argument represents the upper (exclusive) end of the range, with the lower end being 0. Specifically, if the required argument is n, then the random integer is chosen uniformly from the range [0, n).\n",
    "\n",
    "If high is not None, then the required argument will represent the lower (inclusive) end of the range, while high represents the upper (exclusive) end.\n",
    "\n",
    "The size keyword argument specifies the size of the output array, where each integer in the array is randomly drawn from the specified range. As a default, np.random.randint returns a single integer."
   ]
  },
  {
   "cell_type": "code",
   "execution_count": 1,
   "id": "1fb3eebc-c3cf-446e-852c-18bcd052bce3",
   "metadata": {},
   "outputs": [
    {
     "name": "stdout",
     "output_type": "stream",
     "text": [
      "2\n",
      "4\n",
      "5\n",
      "array([[ 8, 13],\n",
      "       [-3,  2]])\n"
     ]
    }
   ],
   "source": [
    "import numpy as np\n",
    "\n",
    "\n",
    "print(np.random.randint(5))\n",
    "print(np.random.randint(5))\n",
    "print(np.random.randint(5, high=6))\n",
    "\n",
    "random_arr = np.random.randint(-3, high=14,\n",
    "                               size=(2, 2))\n",
    "print(repr(random_arr))"
   ]
  },
  {
   "cell_type": "markdown",
   "id": "8dd9bb21-652d-4a2a-85ee-a8f7b8109fcf",
   "metadata": {},
   "source": [
    "## Utility functions\n",
    "\n",
    "Some fundamental utility functions from the np.random module are np.random.seed and np.random.shuffle.\n",
    "\n",
    "We use the np.random.seed function to set the random seed, which allows us to control the outputs of the pseudo-random functions. The function takes in a single integer as an argument, representing the random seed.\n",
    "\n",
    "The np.random.shuffle function allows us to randomly shuffle an array. Note that the shuffling happens in place (i.e. no return value), and shuffling multi-dimensional arrays only shuffles the first dimension. Note that only the rows of matrix are shuffled (i.e. shuffling along first dimension only)."
   ]
  },
  {
   "cell_type": "code",
   "execution_count": 2,
   "id": "3f6a659c-9897-4c86-aee2-b515b3fedbf3",
   "metadata": {
    "tags": []
   },
   "outputs": [
    {
     "name": "stdout",
     "output_type": "stream",
     "text": [
      "5\n",
      "array([[15, 75],\n",
      "       [12, 78]])\n",
      "8\n",
      "array([[18, 75],\n",
      "       [25, 46]])\n",
      "5\n",
      "array([[15, 75],\n",
      "       [12, 78]])\n",
      "array([3, 4, 2, 5, 1])\n",
      "array([5, 3, 4, 2, 1])\n",
      "array([[4, 5, 6],\n",
      "       [7, 8, 9],\n",
      "       [1, 2, 3]])\n"
     ]
    }
   ],
   "source": [
    "np.random.seed(1)\n",
    "print(np.random.randint(10))\n",
    "random_arr = np.random.randint(3, high=100,\n",
    "                               size=(2, 2))\n",
    "print(repr(random_arr))\n",
    "\n",
    "# New seed\n",
    "np.random.seed(2)\n",
    "print(np.random.randint(10))\n",
    "random_arr = np.random.randint(3, high=100,\n",
    "                               size=(2, 2))\n",
    "print(repr(random_arr))\n",
    "\n",
    "# Original seed\n",
    "np.random.seed(1)\n",
    "print(np.random.randint(10))\n",
    "random_arr = np.random.randint(3, high=100,\n",
    "                               size=(2, 2))\n",
    "print(repr(random_arr))\n",
    "\n",
    "\n",
    "vec = np.array([1, 2, 3, 4, 5])\n",
    "np.random.shuffle(vec)\n",
    "print(repr(vec))\n",
    "np.random.shuffle(vec)\n",
    "print(repr(vec))\n",
    "\n",
    "matrix = np.array([[1, 2, 3],\n",
    "                   [4, 5, 6],\n",
    "                   [7, 8, 9]])\n",
    "np.random.shuffle(matrix)\n",
    "print(repr(matrix))"
   ]
  },
  {
   "cell_type": "markdown",
   "id": "73ab8a7b-6f81-43bb-8d3e-43c40c0f5ac5",
   "metadata": {},
   "source": [
    "## Distributions\n",
    "\n",
    "Using np.random we can also draw samples from probability distributions. For example, we can use np.random.uniform to draw pseudo-random real numbers from a uniform distribution.\n",
    "\n",
    "The function np.random.uniform actually has no required arguments. The keyword arguments, low and high, represent the inclusive lower end and exclusive upper end from which to draw random samples. Since they have default values of 0.0 and 1.0, respectively, the default outputs of np.random.uniform come from the range [0.0, 1.0).\n",
    "\n",
    "The size keyword argument is the same as the one for np.random.randint, i.e. it represents the output size of the array."
   ]
  },
  {
   "cell_type": "code",
   "execution_count": 3,
   "id": "6c2541da-d61a-4c8f-bd7f-717a2cb18b88",
   "metadata": {},
   "outputs": [
    {
     "name": "stdout",
     "output_type": "stream",
     "text": [
      "0.3132735169322751\n",
      "0.4408281904196243\n",
      "array([0.44345289, 0.22957721, 0.53441391])\n",
      "array([[5.09984683, 0.85200471],\n",
      "       [0.60549667, 5.33388844]])\n"
     ]
    }
   ],
   "source": [
    "print(np.random.uniform())\n",
    "print(np.random.uniform(low=-1.5, high=2.2))\n",
    "print(repr(np.random.uniform(size=3)))\n",
    "print(repr(np.random.uniform(low=-3.4, high=5.9,\n",
    "                             size=(2, 2))))"
   ]
  },
  {
   "cell_type": "markdown",
   "id": "73e29202-6a69-4e89-ab3d-77beb4c9062e",
   "metadata": {},
   "source": [
    "Another popular distribution we can sample from is the normal (Gaussian) distribution. The function we use is np.random.normal.\n",
    "\n",
    "Like np.random.uniform, np.random.normal has no required arguments. The loc and scale keyword arguments represent the mean and standard deviation, respectively, of the normal distribution we sample from.\n",
    "\n",
    "NumPy provides quite a few more built-in distributions, which are listed here, https://docs.scipy.org/doc/numpy-1.14.1/reference/routines.random.html."
   ]
  },
  {
   "cell_type": "code",
   "execution_count": 4,
   "id": "4631321f-30e6-46a2-81a7-57b460d310cc",
   "metadata": {},
   "outputs": [
    {
     "name": "stdout",
     "output_type": "stream",
     "text": [
      "0.7252740646272712\n",
      "4.772112039383628\n",
      "array([[ 2.07318791, -2.17754724],\n",
      "       [-0.89337346, -0.89545991]])\n"
     ]
    }
   ],
   "source": [
    "print(np.random.normal())\n",
    "print(np.random.normal(loc=1.5, scale=3.5))\n",
    "print(repr(np.random.normal(loc=-2.4, scale=4.0,\n",
    "                            size=(2, 2))))"
   ]
  },
  {
   "cell_type": "markdown",
   "id": "e4eb99f1-86f4-47e3-a5a2-6b0d76db3010",
   "metadata": {},
   "source": [
    "## Custom sampling\n",
    "While NumPy provides built-in distributions to sample from, we can also sample from a custom distribution with the np.random.choice function.\n",
    "\n",
    "The required argument for np.random.choice is the custom distribution we sample from. The p keyword argument denotes the probabilities given to each element in the input distribution. Note that the list of probabilities for p must sum to 1.\n",
    "\n",
    "In the example, we set p such that 'red' has a probability of 0.8 of being chosen, 'blue' has a probability of 0.19, and 'green' has a probability of 0.01. When p is not set, the probabilities are equal for each element in the distribution (and sum to 1)."
   ]
  },
  {
   "cell_type": "code",
   "execution_count": 5,
   "id": "aa36e979-65fa-405e-9726-82442b8d8420",
   "metadata": {},
   "outputs": [
    {
     "name": "stdout",
     "output_type": "stream",
     "text": [
      "green\n",
      "array(['blue', 'red'], dtype='<U5')\n",
      "array([['red', 'red'],\n",
      "       ['blue', 'red']], dtype='<U5')\n"
     ]
    }
   ],
   "source": [
    "colors = ['red', 'blue', 'green']\n",
    "print(np.random.choice(colors))\n",
    "print(repr(np.random.choice(colors, size=2)))\n",
    "print(repr(np.random.choice(colors, size=(2, 2),\n",
    "                            p=[0.8, 0.19, 0.01])))"
   ]
  },
  {
   "cell_type": "code",
   "execution_count": null,
   "id": "0c8f389a-3f91-4b15-a1b1-f94c30a74f60",
   "metadata": {},
   "outputs": [],
   "source": []
  }
 ],
 "metadata": {
  "kernelspec": {
   "display_name": "Python 3 (ipykernel)",
   "language": "python",
   "name": "python3"
  },
  "language_info": {
   "codemirror_mode": {
    "name": "ipython",
    "version": 3
   },
   "file_extension": ".py",
   "mimetype": "text/x-python",
   "name": "python",
   "nbconvert_exporter": "python",
   "pygments_lexer": "ipython3",
   "version": "3.8.2"
  }
 },
 "nbformat": 4,
 "nbformat_minor": 5
}
