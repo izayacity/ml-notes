{
 "cells": [
  {
   "cell_type": "code",
   "execution_count": 1,
   "id": "bc79d65a-9d1c-44fd-8579-69fb44db051f",
   "metadata": {
    "tags": []
   },
   "outputs": [
    {
     "name": "stdout",
     "output_type": "stream",
     "text": [
      "array([[0., 1., 2.],\n",
      "       [3., 4., 5.]], dtype=float32)\n",
      "int32\n",
      "float32\n",
      "float64\n",
      "array(['nan', 'abc'], dtype='<U32')\n",
      "True\n",
      "array([inf,  5.])\n",
      "array([-inf,   1.])\n"
     ]
    },
    {
     "data": {
      "text/plain": [
       "array([inf,  3.], dtype=float32)"
      ]
     },
     "execution_count": 1,
     "metadata": {},
     "output_type": "execute_result"
    }
   ],
   "source": [
    "import numpy as np\n",
    "# !python -m pip install numpy\n",
    "\n",
    "arr = np.array([[0, 1, 2], [3, 4, 5]], dtype=np.float32)\n",
    "print(repr(arr))\n",
    "\n",
    "arr = np.array([0, 1, 2])\n",
    "print(arr.dtype)\n",
    "arr = arr.astype(np.float32)\n",
    "print(arr.dtype)\n",
    "\n",
    "# both nan and inf can not take on an integer value\n",
    "arr = np.array([np.nan, 1, 2])\n",
    "print(arr.dtype)\n",
    "\n",
    "arr = np.array([np.nan, 'abc'])\n",
    "print(repr(arr))\n",
    "\n",
    "# Will result in a ValueError: If we uncomment line 8 and run again.\n",
    "#np.array([np.nan, 1, 2], dtype=np.int32)\n",
    "np.array([np.nan, 1, 2], dtype=np.float32)\n",
    "print(np.inf > 1000000)\n",
    "\n",
    "arr = np.array([np.inf, 5])\n",
    "print(repr(arr))\n",
    "\n",
    "arr = np.array([-np.inf, 1])\n",
    "print(repr(arr))\n",
    "\n",
    "# Will result in a OverflowError: If we uncomment line 10 and run again.\n",
    "#np.array([np.inf, 3], dtype=np.int32)\n",
    "np.array([np.inf, 3], dtype=np.float32)"
   ]
  },
  {
   "cell_type": "markdown",
   "id": "1af25a82-dfd3-4be1-98d0-9846a22cd797",
   "metadata": {
    "tags": []
   },
   "source": [
    "## Ranged data\n",
    "### The output of np.arange is specified as follows:\n",
    "- For three arguments, m, n, and s, np.arange will return an array with the integers in the range `[m, n) ` using a step size of s.\n",
    "- Like np.array, np.arange performs upcasting. It also has the dtype keyword argument to manually cast the array.\n",
    "\n",
    "To specify the number of elements in the returned array, rather than the step size, we can use the np.linspace function.\n",
    "\n",
    "This function takes in a required first two arguments, for the start and end of the range, respectively. The end of the range is inclusive for np.linspace, unless the keyword argument endpoint is set to False. To specify the number of elements, we set the num keyword argument (its default value is 50). It also takes in the dtype keyword argument for manual casting."
   ]
  },
  {
   "cell_type": "code",
   "execution_count": 2,
   "id": "199ee007-a8b7-4b2b-b210-0f8c77d4f035",
   "metadata": {},
   "outputs": [
    {
     "name": "stdout",
     "output_type": "stream",
     "text": [
      "array([ 5.,  7.,  9., 11.])\n",
      "array([5. , 6.5, 8. , 9.5])\n",
      "array([ 5,  7,  9, 11])\n"
     ]
    }
   ],
   "source": [
    "arr = np.linspace(5, 11, num=4)\n",
    "print(repr(arr))\n",
    "\n",
    "arr = np.linspace(5, 11, num=4, endpoint=False)\n",
    "print(repr(arr))\n",
    "\n",
    "arr = np.linspace(5, 11, num=4, dtype=np.int32)\n",
    "print(repr(arr))"
   ]
  },
  {
   "cell_type": "markdown",
   "id": "eb1ccbb7-5a99-428a-a89b-a816592b7830",
   "metadata": {},
   "source": [
    "## Reshaping data\n",
    "The function we use to reshape data in NumPy is np.reshape. It takes in an array and a new shape as required arguments. The new shape must exactly contain all the elements from the input array. For example, we could reshape an array with 12 elements to (4, 3), but we can't reshape it to (4, 4).\n",
    "\n",
    "We are allowed to use the special value of -1 in at most one dimension of the new shape. The dimension with -1 will take on the value necessary to allow the new shape to contain all the elements of the array."
   ]
  },
  {
   "cell_type": "code",
   "execution_count": 3,
   "id": "8cd5c3fd-fe9a-42e0-9b2a-8a88cde1f497",
   "metadata": {},
   "outputs": [
    {
     "name": "stdout",
     "output_type": "stream",
     "text": [
      "array([[0, 1, 2, 3],\n",
      "       [4, 5, 6, 7]])\n",
      "New shape: (2, 4)\n",
      "array([[[0, 1],\n",
      "        [2, 3]],\n",
      "\n",
      "       [[4, 5],\n",
      "        [6, 7]]])\n",
      "New shape: (2, 2, 2)\n"
     ]
    }
   ],
   "source": [
    "arr = np.arange(8)\n",
    "\n",
    "reshaped_arr = np.reshape(arr, (2, 4))\n",
    "print(repr(reshaped_arr))\n",
    "print('New shape: {}'.format(reshaped_arr.shape))\n",
    "\n",
    "reshaped_arr = np.reshape(arr, (-1, 2, 2))\n",
    "print(repr(reshaped_arr))\n",
    "print('New shape: {}'.format(reshaped_arr.shape))"
   ]
  },
  {
   "cell_type": "markdown",
   "id": "a2a069ce-da7f-44e8-901d-ea9e28cdb4f4",
   "metadata": {},
   "source": [
    "While the np.reshape function can perform any reshaping utilities we need, NumPy provides an inherent function for flattening an array. Flattening an array reshapes it into a 1D array."
   ]
  },
  {
   "cell_type": "code",
   "execution_count": 4,
   "id": "fadf878d-9c0c-4a9a-80d6-4fbd85c604b9",
   "metadata": {},
   "outputs": [
    {
     "name": "stdout",
     "output_type": "stream",
     "text": [
      "array([[0, 1, 2, 3],\n",
      "       [4, 5, 6, 7]])\n",
      "arr shape: (2, 4)\n",
      "array([0, 1, 2, 3, 4, 5, 6, 7])\n",
      "flattened shape: (8,)\n"
     ]
    }
   ],
   "source": [
    "arr = np.arange(8)\n",
    "arr = np.reshape(arr, (2, 4))\n",
    "flattened = arr.flatten()\n",
    "print(repr(arr))\n",
    "print('arr shape: {}'.format(arr.shape))\n",
    "print(repr(flattened))\n",
    "print('flattened shape: {}'.format(flattened.shape))"
   ]
  },
  {
   "cell_type": "markdown",
   "id": "2526a2c6-bbbf-4c4e-a614-d494092adf18",
   "metadata": {},
   "source": [
    "## Transposing\n",
    "Similar to how it is common to reshape data, it is also common to transpose data. Perhaps we have data that is supposed to be in a particular format, but some new data we get is rearranged. We can just transpose the data, using the np.transpose function, to convert it to the proper format. The matrix rows become columns after the transpose."
   ]
  },
  {
   "cell_type": "code",
   "execution_count": 12,
   "id": "31e607ad-772b-427f-9eed-9b201582b640",
   "metadata": {},
   "outputs": [
    {
     "name": "stdout",
     "output_type": "stream",
     "text": [
      "array([[0, 1],\n",
      "       [2, 3],\n",
      "       [4, 5],\n",
      "       [6, 7]])\n",
      "arr shape: (4, 2)\n",
      "array([[0, 2, 4, 6],\n",
      "       [1, 3, 5, 7]])\n",
      "transposed shape: (2, 4)\n"
     ]
    }
   ],
   "source": [
    "arr = np.arange(8)\n",
    "arr = np.reshape(arr, (4, 2))\n",
    "transposed = np.transpose(arr)\n",
    "print(repr(arr))\n",
    "print('arr shape: {}'.format(arr.shape))\n",
    "print(repr(transposed))\n",
    "print('transposed shape: {}'.format(transposed.shape))"
   ]
  },
  {
   "cell_type": "markdown",
   "id": "0b439683-d5ff-4751-96f0-b638b4834024",
   "metadata": {},
   "source": [
    "The function takes in a required first argument, which will be the array we want to transpose. It also has a single keyword argument called axes, which represents the new permutation of the dimensions.\n",
    "The permutation is a tuple/list of integers, with the same length as the number of dimensions in the array. It tells us where to switch up the dimensions. For example, if the permutation had 3 at index 1, it means the old third dimension of the data becomes the new second dimension (since index 1 represents the second dimension).\n",
    "\n",
    "In this example, the old first dimension became the new third dimension, the old second dimension became the new first dimension, and the old third dimension became the new second dimension. The default value for axes is a dimension reversal (e.g. for 3-D data the default axes value is [2, 1, 0])."
   ]
  },
  {
   "cell_type": "code",
   "execution_count": 13,
   "id": "6ded32f8-4f1c-4a35-bb8b-fd87f38c098e",
   "metadata": {},
   "outputs": [
    {
     "name": "stdout",
     "output_type": "stream",
     "text": [
      "arr shape: (3, 4, 2)\n",
      "transposed shape: (4, 2, 3)\n"
     ]
    }
   ],
   "source": [
    "arr = np.arange(24)\n",
    "arr = np.reshape(arr, (3, 4, 2))\n",
    "transposed = np.transpose(arr, axes=(1, 2, 0))\n",
    "print('arr shape: {}'.format(arr.shape))\n",
    "print('transposed shape: {}'.format(transposed.shape))"
   ]
  },
  {
   "cell_type": "markdown",
   "id": "0e3a9761-b7e0-4699-ae48-1644ecb40f61",
   "metadata": {},
   "source": [
    "## Zeros and ones\n",
    "NumPy provides the functions np.zeros and np.ones. They both take in the same arguments, which includes just one required argument, the array shape. The functions also allow for manual casting using the dtype keyword argument.\n",
    "\n",
    "If we want to create an array of 0's or 1's with the same shape as another array, we can use np.zeros_like and np.ones_like."
   ]
  },
  {
   "cell_type": "code",
   "execution_count": 14,
   "id": "4df0c028-e59d-4a20-98e5-d2eb2ce6d6a5",
   "metadata": {},
   "outputs": [
    {
     "name": "stdout",
     "output_type": "stream",
     "text": [
      "array([0., 0., 0., 0.])\n",
      "array([[1., 1., 1.],\n",
      "       [1., 1., 1.]])\n",
      "array([[1, 1, 1],\n",
      "       [1, 1, 1]])\n",
      "array([[0, 0],\n",
      "       [0, 0]])\n",
      "array([[1., 1.],\n",
      "       [1., 1.]])\n",
      "array([[1, 1],\n",
      "       [1, 1]])\n"
     ]
    }
   ],
   "source": [
    "arr = np.zeros(4)\n",
    "print(repr(arr))\n",
    "\n",
    "arr = np.ones((2, 3))\n",
    "print(repr(arr))\n",
    "\n",
    "arr = np.ones((2, 3), dtype=np.int32)\n",
    "print(repr(arr))\n",
    "\n",
    "arr = np.array([[1, 2], [3, 4]])\n",
    "print(repr(np.zeros_like(arr)))\n",
    "\n",
    "arr = np.array([[0., 1.], [1.2, 4.]])\n",
    "print(repr(np.ones_like(arr)))\n",
    "print(repr(np.ones_like(arr, dtype=np.int32)))"
   ]
  },
  {
   "cell_type": "code",
   "execution_count": null,
   "id": "b2cbaf0d-6782-4cb5-b76e-a6cabacd040b",
   "metadata": {},
   "outputs": [],
   "source": []
  }
 ],
 "metadata": {
  "kernelspec": {
   "display_name": "Python 3 (ipykernel)",
   "language": "python",
   "name": "python3"
  },
  "language_info": {
   "codemirror_mode": {
    "name": "ipython",
    "version": 3
   },
   "file_extension": ".py",
   "mimetype": "text/x-python",
   "name": "python",
   "nbconvert_exporter": "python",
   "pygments_lexer": "ipython3",
   "version": "3.8.2"
  }
 },
 "nbformat": 4,
 "nbformat_minor": 5
}
