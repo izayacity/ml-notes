{
 "cells": [
  {
   "cell_type": "markdown",
   "id": "fe84dd77-87f8-405e-88d9-f0be81f06181",
   "metadata": {},
   "source": [
    "## 1-D data\n",
    "\n",
    "We use two separate objects to deal with 1-D and 2-D data in pandas. For 1-D data, we use the pandas.Series objects, which we'll refer to simply as a Series.\n",
    "\n",
    "A Series is created through the pd.Series constructor, which takes in no required arguments but does have a variety of keyword arguments.\n",
    "- The first keyword argument is data, which specifies the elements of the Series. If data is not set, pd.Series returns an empty Series. Since the data keyword argument is almost always used, we treat it like a regular first argument (i.e. skip the data= prefix).\n",
    "- Similar to the np.array constructor, pd.Series also takes in the dtype keyword argument for manual casting."
   ]
  },
  {
   "cell_type": "code",
   "execution_count": 3,
   "id": "855f900c-5504-4996-99b6-7b63a5532431",
   "metadata": {},
   "outputs": [
    {
     "name": "stdout",
     "output_type": "stream",
     "text": [
      "Defaulting to user installation because normal site-packages is not writeable\n",
      "Requirement already satisfied: pandas in c:\\users\\franc\\appdata\\roaming\\python\\python38\\site-packages (1.4.0)\n",
      "Requirement already satisfied: pytz>=2020.1 in c:\\users\\franc\\appdata\\roaming\\python\\python38\\site-packages (from pandas) (2021.3)\n",
      "Requirement already satisfied: python-dateutil>=2.8.1 in c:\\users\\franc\\appdata\\roaming\\python\\python38\\site-packages (from pandas) (2.8.2)\n",
      "Requirement already satisfied: numpy>=1.18.5 in c:\\users\\franc\\appdata\\roaming\\python\\python38\\site-packages (from pandas) (1.22.1)\n",
      "Requirement already satisfied: six>=1.5 in c:\\users\\franc\\appdata\\roaming\\python\\python38\\site-packages (from python-dateutil>=2.8.1->pandas) (1.16.0)\n"
     ]
    }
   ],
   "source": [
    "#!python -m pip install pandas"
   ]
  },
  {
   "cell_type": "code",
   "execution_count": 6,
   "id": "fc6c4342-a457-401b-abc9-c14f930c3edc",
   "metadata": {},
   "outputs": [
    {
     "name": "stdout",
     "output_type": "stream",
     "text": [
      "Series([], dtype: float64)\n",
      "\n",
      "0    5\n",
      "dtype: int64\n",
      "\n",
      "0    1\n",
      "1    2\n",
      "2    3\n",
      "dtype: int64\n",
      "\n",
      "0    1.0\n",
      "1    2.2\n",
      "dtype: float64\n",
      "\n",
      "0    1.0\n",
      "1    2.0\n",
      "dtype: float32\n",
      "\n",
      "0    [1, 2]\n",
      "1    [3, 4]\n",
      "dtype: object\n",
      "\n"
     ]
    }
   ],
   "source": [
    "import pandas as pd\n",
    "import numpy as np\n",
    "\n",
    "# Creating an empty series, will result in DeprecationWarning\n",
    "#series = pd.Series()\n",
    "\n",
    "# Passing dtype as a parameter to Series for an empty series to avoid DeprecationWarning\n",
    "# Creating an empty series\n",
    "series = pd.Series(dtype='float64')\n",
    "# Newline to separate series print statements\n",
    "print('{}\\n'.format(series))\n",
    "\n",
    "series = pd.Series(5)\n",
    "print('{}\\n'.format(series))\n",
    "\n",
    "series = pd.Series([1, 2, 3])\n",
    "print('{}\\n'.format(series))\n",
    "\n",
    "series = pd.Series([1, 2.2]) # upcasting\n",
    "print('{}\\n'.format(series))\n",
    "\n",
    "arr = np.array([1, 2])\n",
    "series = pd.Series(arr, dtype=np.float32)\n",
    "print('{}\\n'.format(series))\n",
    "\n",
    "series = pd.Series([[1, 2], [3, 4]])\n",
    "print('{}\\n'.format(series))"
   ]
  },
  {
   "cell_type": "markdown",
   "id": "7d71c1d2-6189-4c2d-a6c9-11381954063c",
   "metadata": {},
   "source": [
    "## Index\n",
    "\n",
    "The default index is integers from 0 to n - 1, where n is the number of elements in the Series. However, we can specify a custom index via the index keyword argument of pd.Series.\n",
    "\n",
    "The index keyword argument needs to be a list or array with the same length as the data argument for pd.Series. The values in the index list can be any hashable type (e.g. integer, float, string)."
   ]
  },
  {
   "cell_type": "code",
   "execution_count": 7,
   "id": "1f24da7a-9f85-40e1-81fe-e5c8b5da0185",
   "metadata": {},
   "outputs": [
    {
     "name": "stdout",
     "output_type": "stream",
     "text": [
      "a    1\n",
      "b    2\n",
      "c    3\n",
      "dtype: int64\n",
      "\n",
      "a      1\n",
      "8      2\n",
      "0.3    3\n",
      "dtype: int64\n",
      "\n"
     ]
    }
   ],
   "source": [
    "series = pd.Series([1, 2, 3], index=['a', 'b', 'c'])\n",
    "print('{}\\n'.format(series))\n",
    "\n",
    "series = pd.Series([1, 2, 3], index=['a', 8, 0.3])\n",
    "print('{}\\n'.format(series))"
   ]
  },
  {
   "cell_type": "markdown",
   "id": "0de0bbaa-09ae-49b0-841b-6c19bde81155",
   "metadata": {},
   "source": [
    "## Dictionary input"
   ]
  },
  {
   "cell_type": "code",
   "execution_count": 8,
   "id": "56a0832d-df4f-42d9-b6fe-32f93f1040ac",
   "metadata": {},
   "outputs": [
    {
     "name": "stdout",
     "output_type": "stream",
     "text": [
      "a    1\n",
      "b    2\n",
      "c    3\n",
      "dtype: int64\n",
      "\n",
      "b    2\n",
      "a    1\n",
      "c    3\n",
      "dtype: int64\n",
      "\n"
     ]
    }
   ],
   "source": [
    "series = pd.Series({'a':1, 'b':2, 'c':3})\n",
    "print('{}\\n'.format(series))\n",
    "\n",
    "series = pd.Series({'b':2, 'a':1, 'c':3})\n",
    "print('{}\\n'.format(series))"
   ]
  },
  {
   "cell_type": "code",
   "execution_count": null,
   "id": "725b1cc4-e6a8-4778-8ed9-b2504353cca5",
   "metadata": {},
   "outputs": [],
   "source": []
  }
 ],
 "metadata": {
  "kernelspec": {
   "display_name": "Python 3 (ipykernel)",
   "language": "python",
   "name": "python3"
  },
  "language_info": {
   "codemirror_mode": {
    "name": "ipython",
    "version": 3
   },
   "file_extension": ".py",
   "mimetype": "text/x-python",
   "name": "python",
   "nbconvert_exporter": "python",
   "pygments_lexer": "ipython3",
   "version": "3.8.2"
  }
 },
 "nbformat": 4,
 "nbformat_minor": 5
}
