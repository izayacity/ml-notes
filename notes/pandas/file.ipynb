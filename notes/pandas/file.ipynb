{
 "cells": [
  {
   "cell_type": "markdown",
   "id": "db4e3b92-40d0-4088-a592-1454aeb356d0",
   "metadata": {},
   "source": [
    "## Write to CSV\n",
    "- When we don't use any keyword arguments, to_csv will write the row labels as the first column in the CSV file. This is fine if the row labels are meaningful.\n",
    "- If they are just integers, we don't really want them in the CSV file. In that case, we set index=False, to specify that we don't write the row labels into the CSV file."
   ]
  },
  {
   "cell_type": "code",
   "execution_count": 3,
   "id": "80326faa-be4a-4357-be83-6b84261493fa",
   "metadata": {},
   "outputs": [
    {
     "name": "stdout",
     "output_type": "stream",
     "text": [
      "         name pos  HR\n",
      "0  john smith  2B  17\n",
      "1    al smith   C  28\n",
      "2    john doe   P  19\n",
      "\n",
      "   Unnamed: 0        name pos  HR\n",
      "0           0  john smith  2B  17\n",
      "1           1    al smith   C  28\n",
      "2           2    john doe   P  19\n",
      "\n",
      "         name pos  HR\n",
      "0  john smith  2B  17\n",
      "1    al smith   C  28\n",
      "2    john doe   P  19\n",
      "\n"
     ]
    }
   ],
   "source": [
    "import pandas as pd\n",
    "\n",
    "mlb_df = pd.DataFrame({'name': ['john smith', 'al smith', 'john doe'],\n",
    "                        'pos': ['2B', 'C', 'P'],\n",
    "                        'HR': [17, 28, 19]})\n",
    "# Predefined mlb_df\n",
    "print('{}\\n'.format(mlb_df))\n",
    "\n",
    "# Index is kept when writing\n",
    "data_dir = './data/data.csv'\n",
    "mlb_df.to_csv(data_dir)\n",
    "df = pd.read_csv(data_dir)\n",
    "print('{}\\n'.format(df))\n",
    "\n",
    "# Index is not kept when writing\n",
    "mlb_df.to_csv(data_dir, index=False)\n",
    "df = pd.read_csv(data_dir)\n",
    "print('{}\\n'.format(df))"
   ]
  },
  {
   "cell_type": "markdown",
   "id": "2bf4a364-e058-4261-957f-79b4f098db68",
   "metadata": {},
   "source": [
    "## Read from CSV\n",
    "- When we don't use any keyword arguments, pd.read_csv returns a DataFrame with integer indexes as row labels, and each comma-separated column name as the column labels.\n",
    "- When we set the index_col keyword argument, we specify which column we want to use as the row labels. In our example, we used the first and second column as row labels"
   ]
  },
  {
   "cell_type": "code",
   "execution_count": 4,
   "id": "a251c586-473f-436d-93ea-fabaabf2092d",
   "metadata": {},
   "outputs": [
    {
     "name": "stdout",
     "output_type": "stream",
     "text": [
      "         name pos  HR\n",
      "0  john smith  2B  17\n",
      "1    al smith   C  28\n",
      "2    john doe   P  19\n",
      "\n",
      "           pos  HR\n",
      "name              \n",
      "john smith  2B  17\n",
      "al smith     C  28\n",
      "john doe     P  19\n",
      "\n",
      "           name  HR\n",
      "pos                \n",
      "2B   john smith  17\n",
      "C      al smith  28\n",
      "P      john doe  19\n",
      "\n"
     ]
    }
   ],
   "source": [
    "# data.csv contains baseball data\n",
    "data_dir = './data/data.csv'\n",
    "df = pd.read_csv(data_dir)\n",
    "# Newline to separate print statements\n",
    "print('{}\\n'.format(df))\n",
    "\n",
    "df = pd.read_csv(data_dir, index_col=0)\n",
    "print('{}\\n'.format(df))\n",
    "\n",
    "df = pd.read_csv(data_dir, index_col=1)\n",
    "print('{}\\n'.format(df))"
   ]
  },
  {
   "cell_type": "markdown",
   "id": "cba57c4f-4968-4036-9f7e-9df4944b1386",
   "metadata": {
    "tags": []
   },
   "source": [
    "## Write to Excel\n",
    "The basic to_excel function will only write a single DataFrame to a spreadsheet. However, if we want to write multiple spreadsheets in an Excel workbook, we first load the Excel file into a pd.ExcelWriter then use the ExcelWriter as the first argument to to_excel.\n",
    "\n",
    "When we don't specify the sheet_name keyword argument, the Excel spreadsheet we write to is named 'Sheet1'. We can pass in custom names into sheet_name to avoid constantly writing to 'Sheet1'."
   ]
  },
  {
   "cell_type": "code",
   "execution_count": 6,
   "id": "446f2595-f6e4-4b7a-815d-7647a0489e37",
   "metadata": {},
   "outputs": [
    {
     "name": "stdout",
     "output_type": "stream",
     "text": [
      "Defaulting to user installation because normal site-packages is not writeable\n",
      "Collecting openpyxl\n",
      "  Downloading openpyxl-3.0.9-py2.py3-none-any.whl (242 kB)\n",
      "     ------------------------------------ 242.2/242.2 KB 345.1 kB/s eta 0:00:00\n",
      "Collecting et-xmlfile\n",
      "  Downloading et_xmlfile-1.1.0-py3-none-any.whl (4.7 kB)\n",
      "Installing collected packages: et-xmlfile, openpyxl\n",
      "Successfully installed et-xmlfile-1.1.0 openpyxl-3.0.9\n"
     ]
    }
   ],
   "source": [
    "!python -m pip install openpyxl"
   ]
  },
  {
   "cell_type": "code",
   "execution_count": 7,
   "id": "8bb9925d-0c09-4e7e-9377-7ff8643ef15f",
   "metadata": {},
   "outputs": [
    {
     "name": "stdout",
     "output_type": "stream",
     "text": [
      "         name pos  HR\n",
      "0  john smith  2B  17\n",
      "1    al smith   C  28\n",
      "2    john doe   P  19\n",
      "\n",
      "         name pos  HR\n",
      "0    abe hass  2B  17\n",
      "1    jim buck   C  28\n",
      "2  aaron dean   P  19\n",
      "\n",
      "dict_keys(['NYY', 'BOS'])\n",
      "         name pos  HR\n",
      "0    abe hass  2B  17\n",
      "1    jim buck   C  28\n",
      "2  aaron dean   P  19\n",
      "\n"
     ]
    }
   ],
   "source": [
    "# Predefined DataFrames\n",
    "mlb_df1 = pd.DataFrame({'name': ['john smith', 'al smith', 'john doe'],\n",
    "                        'pos': ['2B', 'C', 'P'],\n",
    "                        'HR': [17, 28, 19]})\n",
    "mlb_df2 = pd.DataFrame({'name': ['abe hass', 'jim buck', 'aaron dean'],\n",
    "                        'pos': ['2B', 'C', 'P'],\n",
    "                        'HR': [17, 28, 19]})\n",
    "print('{}\\n'.format(mlb_df1))\n",
    "print('{}\\n'.format(mlb_df2))\n",
    "\n",
    "data_dir = './data/data.xlsx'\n",
    "with pd.ExcelWriter(data_dir) as writer:\n",
    "  mlb_df1.to_excel(writer, index=False, sheet_name='NYY')\n",
    "  mlb_df2.to_excel(writer, index=False, sheet_name='BOS')\n",
    "  \n",
    "df_dict = pd.read_excel(data_dir, sheet_name=None)\n",
    "print(df_dict.keys())\n",
    "print('{}\\n'.format(df_dict['BOS']))"
   ]
  },
  {
   "cell_type": "markdown",
   "id": "1dca85c6-a777-4fb0-bcb8-08d2ac00e597",
   "metadata": {},
   "source": [
    "## Read from Excel"
   ]
  },
  {
   "cell_type": "code",
   "execution_count": 10,
   "id": "75387463-89aa-49e8-b15d-cb2b0d72ae0f",
   "metadata": {},
   "outputs": [
    {
     "name": "stdout",
     "output_type": "stream",
     "text": [
      "         name pos  HR\n",
      "0  john smith  2B  17\n",
      "1    al smith   C  28\n",
      "2    john doe   P  19\n",
      "\n",
      "Sheet 1 (0-indexed) DataFrame:\n",
      "         name pos  HR\n",
      "0    abe hass  2B  17\n",
      "1    jim buck   C  28\n",
      "2  aaron dean   P  19\n",
      "\n",
      "         name pos  HR\n",
      "0    abe hass  2B  17\n",
      "1    jim buck   C  28\n",
      "2  aaron dean   P  19\n",
      "\n",
      "dict_keys(['NYY', 'BOS'])\n"
     ]
    }
   ],
   "source": [
    "# data.csv contains baseball data\n",
    "data_dir = './data/data.xlsx'\n",
    "df = pd.read_excel(data_dir)\n",
    "# Newline to separate print statements\n",
    "print('{}\\n'.format(df))\n",
    "\n",
    "print('Sheet 1 (0-indexed) DataFrame:')\n",
    "df = pd.read_excel(data_dir, sheet_name=1)\n",
    "print('{}\\n'.format(df))\n",
    "\n",
    "# Sheets 0 and 1\n",
    "df_dict = pd.read_excel(data_dir, sheet_name=[0, 1])\n",
    "print('{}\\n'.format(df_dict[1]))\n",
    "\n",
    "# All Sheets\n",
    "df_dict = pd.read_excel(data_dir, sheet_name=None)\n",
    "print(df_dict.keys())\n",
    "\n",
    "# print('MIL DataFrame:')\n",
    "# df = pd.read_excel(data_dir, sheet_name='MIL')\n",
    "# print('{}\\n'.format(df))"
   ]
  },
  {
   "cell_type": "markdown",
   "id": "9da8add7-d6d8-40f7-a6f9-1e96c9bb3a66",
   "metadata": {},
   "source": [
    "## Write to JSON\n",
    "The to_json function also uses the orient keyword argument that was part of pd.read_json. Like in pd.read_json, setting orient='index' will set the outer keys of the JSON data to the row labels and the inner keys to the column labels."
   ]
  },
  {
   "cell_type": "code",
   "execution_count": 13,
   "id": "1581629c-e6b4-4169-b85c-2936c8603900",
   "metadata": {},
   "outputs": [
    {
     "name": "stdout",
     "output_type": "stream",
     "text": [
      "         name pos  HR\n",
      "0    abe hass  2B  17\n",
      "1    jim buck   C  28\n",
      "2  aaron dean   P  19\n",
      "\n",
      "         name pos  HR\n",
      "0    abe hass  2B  17\n",
      "1    jim buck   C  28\n",
      "2  aaron dean   P  19\n",
      "\n",
      "             0         1           2\n",
      "name  abe hass  jim buck  aaron dean\n",
      "pos         2B         C           P\n",
      "HR          17        28          19\n",
      "\n",
      "         name pos  HR\n",
      "0    abe hass  2B  17\n",
      "1    jim buck   C  28\n",
      "2  aaron dean   P  19\n",
      "\n"
     ]
    }
   ],
   "source": [
    "# Predefined df\n",
    "print('{}\\n'.format(df))\n",
    "data_dir = './data/data.json'\n",
    "\n",
    "df.to_json(data_dir)\n",
    "df2 = pd.read_json(data_dir)\n",
    "print('{}\\n'.format(df2))\n",
    "\n",
    "df.to_json(data_dir, orient='index')\n",
    "df2 = pd.read_json(data_dir)\n",
    "print('{}\\n'.format(df2))\n",
    "df2 = pd.read_json(data_dir, orient='index')\n",
    "print('{}\\n'.format(df2))"
   ]
  },
  {
   "cell_type": "markdown",
   "id": "3647afa6-f20a-4bed-9d81-0e4279776ac7",
   "metadata": {
    "tags": []
   },
   "source": [
    "## Read from JSON\n",
    "- When we don't use any keyword arguments, pd.read_json treats each outer key of the JSON data as a column label and each inner key as a row label. In the code example below, you can see df1 treats the player's names as column labels.\n",
    "- When we set orient='index', the outer keys are treated as row labels and the inner keys are treated as column labels."
   ]
  },
  {
   "cell_type": "code",
   "execution_count": 15,
   "id": "9043477e-a6ea-432e-9708-7d226c5291e8",
   "metadata": {},
   "outputs": [
    {
     "name": "stdout",
     "output_type": "stream",
     "text": [
      "             0         1           2\n",
      "name  abe hass  jim buck  aaron dean\n",
      "pos         2B         C           P\n",
      "HR          17        28          19\n",
      "\n",
      "         name pos  HR\n",
      "0    abe hass  2B  17\n",
      "1    jim buck   C  28\n",
      "2  aaron dean   P  19\n",
      "\n"
     ]
    }
   ],
   "source": [
    "# data is the JSON data (as a Python dict)\n",
    "data_dir = './data/data.json'\n",
    "\n",
    "df1 = pd.read_json(data_dir)\n",
    "print('{}\\n'.format(df1))\n",
    "\n",
    "df2 = pd.read_json(data_dir, orient='index')\n",
    "print('{}\\n'.format(df2))"
   ]
  }
 ],
 "metadata": {
  "kernelspec": {
   "display_name": "Python 3 (ipykernel)",
   "language": "python",
   "name": "python3"
  },
  "language_info": {
   "codemirror_mode": {
    "name": "ipython",
    "version": 3
   },
   "file_extension": ".py",
   "mimetype": "text/x-python",
   "name": "python",
   "nbconvert_exporter": "python",
   "pygments_lexer": "ipython3",
   "version": "3.8.2"
  }
 },
 "nbformat": 4,
 "nbformat_minor": 5
}
