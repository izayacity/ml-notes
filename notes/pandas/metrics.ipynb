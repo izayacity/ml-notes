{
 "cells": [
  {
   "cell_type": "markdown",
   "id": "74b34c5c-1348-4ab0-9614-6e68024cf923",
   "metadata": {},
   "source": [
    "## Numeric metrics\n",
    "Rather than calculating several different metrics separately, pandas provides the describe function to obtain a summary of a DataFrame's numeric data.\n",
    "\n",
    "The metrics included in the output summary of describe are:\n",
    "\n",
    "Metric | Description\n",
    "\n",
    "count:\tThe number of rows in the DataFrame\n",
    "\n",
    "mean:\tThe mean value for a feature\n",
    "\n",
    "std:\t    The standard deviation for a feature\n",
    "\n",
    "min:\t    The minimum value in a feature\n",
    "\n",
    "25%:\t    The 25th percentile of a feature\n",
    "\n",
    "50%:\t    The 50th percentile of a feature. Note that this is identical to the median\n",
    "\n",
    "75%:\t    The 75th percentile of a feature\n",
    "\n",
    "max:\t    The maximum value in a feature"
   ]
  },
  {
   "cell_type": "code",
   "execution_count": 1,
   "id": "a9f49894-260c-437a-8095-3b2d47fdbb02",
   "metadata": {},
   "outputs": [
    {
     "name": "stdout",
     "output_type": "stream",
     "text": [
      "    playerID  yearID teamID  HR  RBI\n",
      "0   cruzne02    2017    SEA  39  119\n",
      "1  pedrodu01    2017    BOS   7   62\n",
      "2   cruzne02    2016    SEA  43  105\n",
      "3  pedrodu01    2015    BOS  12   42\n",
      "4  troutmi01    2017    LAA  33   72\n",
      "5  pedrodu01    2016    BOS  15   74\n",
      "\n",
      "            yearID         HR         RBI\n",
      "count     6.000000   6.000000    6.000000\n",
      "mean   2016.333333  24.833333   79.000000\n",
      "std       0.816497  15.341664   28.312541\n",
      "min    2015.000000   7.000000   42.000000\n",
      "25%    2016.000000  12.750000   64.500000\n",
      "50%    2016.500000  24.000000   73.000000\n",
      "75%    2017.000000  37.500000   97.250000\n",
      "max    2017.000000  43.000000  119.000000\n",
      "\n",
      "              HR         RBI\n",
      "count   6.000000    6.000000\n",
      "mean   24.833333   79.000000\n",
      "std    15.341664   28.312541\n",
      "min     7.000000   42.000000\n",
      "25%    12.750000   64.500000\n",
      "50%    24.000000   73.000000\n",
      "75%    37.500000   97.250000\n",
      "max    43.000000  119.000000\n",
      "\n"
     ]
    }
   ],
   "source": [
    "import pandas as pd\n",
    "\n",
    "df = pd.DataFrame([\n",
    "    ['cruzne02',2017,'SEA',39,119],\n",
    "    ['pedrodu01',2017,'BOS',7,62],\n",
    "    ['cruzne02',2016,'SEA',43,105],\n",
    "    ['pedrodu01',2015,'BOS',12,42],\n",
    "    ['troutmi01',2017,'LAA',33,72],\n",
    "    ['pedrodu01',2016,'BOS',15,74]\n",
    "], columns=['playerID', 'yearID', 'teamID', 'HR', 'RBI'])\n",
    "print('{}\\n'.format(df))\n",
    "\n",
    "metrics1 = df.describe()\n",
    "print('{}\\n'.format(metrics1))\n",
    "\n",
    "hr_rbi = df[['HR','RBI']]\n",
    "metrics2 = hr_rbi.describe()\n",
    "print('{}\\n'.format(metrics2))"
   ]
  },
  {
   "cell_type": "markdown",
   "id": "7d7af4ed-3060-44e0-958d-5fc4132cf6f8",
   "metadata": {},
   "source": [
    "To have describe return specific percentiles, we can use the percentiles keyword argument. The percentiles argument takes in a list of decimal percentages, representing the percentiles we want returned in the summary.\n",
    "\n",
    "Note that the 50th percentile, i.e. the median, is always returned. The values specified in the percentiles list will replace the default 25th and 75th percentiles."
   ]
  },
  {
   "cell_type": "code",
   "execution_count": 2,
   "id": "30e8d60f-0b6b-4064-91b5-cf5ac52f2bdf",
   "metadata": {},
   "outputs": [
    {
     "name": "stdout",
     "output_type": "stream",
     "text": [
      "              HR         RBI\n",
      "count   6.000000    6.000000\n",
      "mean   24.833333   79.000000\n",
      "std    15.341664   28.312541\n",
      "min     7.000000   42.000000\n",
      "50%    24.000000   73.000000\n",
      "max    43.000000  119.000000\n",
      "\n",
      "              HR         RBI\n",
      "count   6.000000    6.000000\n",
      "mean   24.833333   79.000000\n",
      "std    15.341664   28.312541\n",
      "min     7.000000   42.000000\n",
      "10%     9.500000   52.000000\n",
      "50%    24.000000   73.000000\n",
      "max    43.000000  119.000000\n",
      "\n",
      "              HR         RBI\n",
      "count   6.000000    6.000000\n",
      "mean   24.833333   79.000000\n",
      "std    15.341664   28.312541\n",
      "min     7.000000   42.000000\n",
      "20%    12.000000   62.000000\n",
      "50%    24.000000   73.000000\n",
      "80%    39.000000  105.000000\n",
      "max    43.000000  119.000000\n",
      "\n"
     ]
    }
   ],
   "source": [
    "metrics1 = hr_rbi.describe(percentiles=[.5])\n",
    "print('{}\\n'.format(metrics1))\n",
    "\n",
    "metrics2 = hr_rbi.describe(percentiles=[.1])\n",
    "print('{}\\n'.format(metrics2))\n",
    "\n",
    "metrics3 = hr_rbi.describe(percentiles=[.2,.8])\n",
    "print('{}\\n'.format(metrics3))"
   ]
  },
  {
   "cell_type": "markdown",
   "id": "3146c99f-1484-46ba-9f3c-cb03569a3403",
   "metadata": {},
   "source": [
    "## Categorical features\n",
    "\n",
    "With categorical features, we don't calculate metrics like mean, standard deviation, etc. Instead, we use frequency counts to describe a categorical feature.\n",
    "\n",
    "The frequency count for a specific category of a feature refers to how many times that category appears in the dataset. In pandas, we use the value_counts function to obtain the frequency counts for each category in a column feature.\n",
    "- Using value_counts without any keyword arguments will return the frequency counts for each category, sorted in descending order.\n",
    "- Setting normalize=True returns the frequency proportions, rather than counts, for each category (note that the sum of all the proportions is 1). We can also set ascending=True to get the frequencies sorted in ascending order.\n",
    "- If we just want the names of each unique category in a column, rather than the frequencies, we use the unique function.\n",
    "- Categorical features can also have integer values."
   ]
  },
  {
   "cell_type": "code",
   "execution_count": 4,
   "id": "96d40825-f06d-415c-9000-1552db00a9cb",
   "metadata": {},
   "outputs": [
    {
     "name": "stdout",
     "output_type": "stream",
     "text": [
      "pedrodu01    3\n",
      "cruzne02     2\n",
      "troutmi01    1\n",
      "Name: playerID, dtype: int64\n",
      "\n",
      "pedrodu01    0.500000\n",
      "cruzne02     0.333333\n",
      "troutmi01    0.166667\n",
      "Name: playerID, dtype: float64\n",
      "\n",
      "troutmi01    1\n",
      "cruzne02     2\n",
      "pedrodu01    3\n",
      "Name: playerID, dtype: int64\n",
      "\n",
      "array(['cruzne02', 'pedrodu01', 'troutmi01'], dtype=object)\n",
      "\n",
      "array(['SEA', 'BOS', 'LAA'], dtype=object)\n",
      "\n",
      "0    2017\n",
      "1    2017\n",
      "2    2016\n",
      "3    2015\n",
      "4    2017\n",
      "5    2016\n",
      "Name: yearID, dtype: int64\n",
      "\n",
      "array([2017, 2016, 2015], dtype=int64)\n",
      "\n",
      "2017    3\n",
      "2016    2\n",
      "2015    1\n",
      "Name: yearID, dtype: int64\n",
      "\n"
     ]
    }
   ],
   "source": [
    "p_ids = df['playerID']\n",
    "print('{}\\n'.format(p_ids.value_counts()))\n",
    "\n",
    "print('{}\\n'.format(p_ids.value_counts(normalize=True)))\n",
    "\n",
    "print('{}\\n'.format(p_ids.value_counts(ascending=True)))\n",
    "\n",
    "unique_players = df['playerID'].unique()\n",
    "print('{}\\n'.format(repr(unique_players)))\n",
    "\n",
    "unique_teams = df['teamID'].unique()\n",
    "print('{}\\n'.format(repr(unique_teams)))\n",
    "\n",
    "y_ids = df['yearID']\n",
    "print('{}\\n'.format(y_ids))\n",
    "\n",
    "print('{}\\n'.format(repr(y_ids.unique())))\n",
    "print('{}\\n'.format(y_ids.value_counts()))"
   ]
  },
  {
   "cell_type": "code",
   "execution_count": null,
   "id": "578c2e92-2655-4a23-8487-8fa234bdd006",
   "metadata": {},
   "outputs": [],
   "source": []
  }
 ],
 "metadata": {
  "kernelspec": {
   "display_name": "Python 3 (ipykernel)",
   "language": "python",
   "name": "python3"
  },
  "language_info": {
   "codemirror_mode": {
    "name": "ipython",
    "version": 3
   },
   "file_extension": ".py",
   "mimetype": "text/x-python",
   "name": "python",
   "nbconvert_exporter": "python",
   "pygments_lexer": "ipython3",
   "version": "3.8.2"
  }
 },
 "nbformat": 4,
 "nbformat_minor": 5
}
