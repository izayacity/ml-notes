{
 "cells": [
  {
   "cell_type": "markdown",
   "id": "70e98233-bbcd-43d3-b71b-17639a932f4a",
   "metadata": {},
   "source": [
    "## Grouping by column"
   ]
  },
  {
   "cell_type": "code",
   "execution_count": 3,
   "id": "322ec1fb-378e-4da8-95cd-0ec480547f88",
   "metadata": {},
   "outputs": [
    {
     "name": "stdout",
     "output_type": "stream",
     "text": [
      "   yearID teamID     H    R\n",
      "0    2017    CLE  1449  818\n",
      "1    2015    CLE  1395  669\n",
      "2    2016    BOS  1598  878\n",
      "3    2015    DET  1515  689\n",
      "4    2016    DET  1476  750\n",
      "5    2016    CLE  1435  777\n",
      "6    2015    BOS  1495  748\n",
      "7    2017    BOS  1461  785\n",
      "\n",
      "Year: 2015\n",
      "   yearID teamID     H    R\n",
      "1    2015    CLE  1395  669\n",
      "3    2015    DET  1515  689\n",
      "6    2015    BOS  1495  748\n",
      "\n",
      "Year: 2016\n",
      "   yearID teamID     H    R\n",
      "2    2016    BOS  1598  878\n",
      "4    2016    DET  1476  750\n",
      "5    2016    CLE  1435  777\n",
      "\n",
      "Year: 2017\n",
      "   yearID teamID     H    R\n",
      "0    2017    CLE  1449  818\n",
      "7    2017    BOS  1461  785\n",
      "\n",
      "   yearID teamID     H    R\n",
      "2    2016    BOS  1598  878\n",
      "4    2016    DET  1476  750\n",
      "5    2016    CLE  1435  777\n",
      "\n",
      "           H     R\n",
      "yearID            \n",
      "2015    4405  2106\n",
      "2016    4509  2405\n",
      "2017    2910  1603\n",
      "\n",
      "                  H           R\n",
      "yearID                         \n",
      "2015    1468.333333  702.000000\n",
      "2016    1503.000000  801.666667\n",
      "2017    1455.000000  801.500000\n",
      "\n",
      "   yearID teamID     H    R\n",
      "0    2017    CLE  1449  818\n",
      "2    2016    BOS  1598  878\n",
      "4    2016    DET  1476  750\n",
      "5    2016    CLE  1435  777\n",
      "7    2017    BOS  1461  785\n"
     ]
    }
   ],
   "source": [
    "import pandas as pd\n",
    "\n",
    "df = pd.DataFrame([\n",
    "    [2017,'CLE',1449,818],\n",
    "    [2015,'CLE',1395,669],\n",
    "    [2016,'BOS',1598,878],\n",
    "    [2015,'DET',1515,689],\n",
    "    [2016,'DET',1476,750],\n",
    "    [2016,'CLE',1435,777],\n",
    "    [2015,'BOS',1495,748],\n",
    "    [2017,'BOS',1461,785]\n",
    "], columns=['yearID', 'teamID', 'H', 'R'])\n",
    "\n",
    "# Predefined df of MLB stats\n",
    "print('{}\\n'.format(df))\n",
    "\n",
    "groups = df.groupby('yearID')\n",
    "for name, group in groups:\n",
    "  print('Year: {}'.format(name))\n",
    "  print('{}\\n'.format(group))\n",
    "  \n",
    "print('{}\\n'.format(groups.get_group(2016)))\n",
    "print('{}\\n'.format(groups.sum()))\n",
    "print('{}\\n'.format(groups.mean()))\n",
    "\n",
    "no2015 = groups.filter(lambda x: x.name > 2015)\n",
    "print(no2015)"
   ]
  },
  {
   "cell_type": "markdown",
   "id": "703e3cdf-0487-41ff-bc64-9d833bec212d",
   "metadata": {},
   "source": [
    "## Multiple columns"
   ]
  },
  {
   "cell_type": "code",
   "execution_count": 5,
   "id": "113a6480-64f9-469a-9b05-07eb91751a93",
   "metadata": {},
   "outputs": [
    {
     "name": "stdout",
     "output_type": "stream",
     "text": [
      "Year, Team: (2015, 'BOS')\n",
      "   yearID teamID     H    R\n",
      "6    2015    BOS  1495  748\n",
      "\n",
      "Year, Team: (2015, 'CLE')\n",
      "   yearID teamID     H    R\n",
      "1    2015    CLE  1395  669\n",
      "\n",
      "Year, Team: (2015, 'DET')\n",
      "   yearID teamID     H    R\n",
      "3    2015    DET  1515  689\n",
      "\n",
      "Year, Team: (2016, 'BOS')\n",
      "   yearID teamID     H    R\n",
      "2    2016    BOS  1598  878\n",
      "\n",
      "Year, Team: (2016, 'CLE')\n",
      "   yearID teamID     H    R\n",
      "5    2016    CLE  1435  777\n",
      "\n",
      "Year, Team: (2016, 'DET')\n",
      "   yearID teamID     H    R\n",
      "4    2016    DET  1476  750\n",
      "\n",
      "Year, Team: (2017, 'BOS')\n",
      "   yearID teamID     H    R\n",
      "7    2017    BOS  1461  785\n",
      "\n",
      "Year, Team: (2017, 'CLE')\n",
      "   yearID teamID     H    R\n",
      "0    2017    CLE  1449  818\n",
      "\n",
      "                  H    R\n",
      "yearID teamID           \n",
      "2015   BOS     1495  748\n",
      "       CLE     1395  669\n",
      "       DET     1515  689\n",
      "2016   BOS     1598  878\n",
      "       CLE     1435  777\n",
      "       DET     1476  750\n",
      "2017   BOS     1461  785\n",
      "       CLE     1449  818\n"
     ]
    }
   ],
   "source": [
    "# player_df is predefined\n",
    "groups = df.groupby(['yearID', 'teamID'])\n",
    "\n",
    "for name, group in groups:\n",
    "  print('Year, Team: {}'.format(name))\n",
    "  print('{}\\n'.format(group))\n",
    "\n",
    "print(groups.sum())"
   ]
  },
  {
   "cell_type": "code",
   "execution_count": null,
   "id": "1aab883f-31c2-44d4-805e-5a6fd0d16267",
   "metadata": {},
   "outputs": [],
   "source": []
  }
 ],
 "metadata": {
  "kernelspec": {
   "display_name": "Python 3 (ipykernel)",
   "language": "python",
   "name": "python3"
  },
  "language_info": {
   "codemirror_mode": {
    "name": "ipython",
    "version": 3
   },
   "file_extension": ".py",
   "mimetype": "text/x-python",
   "name": "python",
   "nbconvert_exporter": "python",
   "pygments_lexer": "ipython3",
   "version": "3.8.2"
  }
 },
 "nbformat": 4,
 "nbformat_minor": 5
}
