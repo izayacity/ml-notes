{
 "cells": [
  {
   "cell_type": "markdown",
   "id": "0b8aa81b-90a5-486b-8421-dc30b8d5cd3a",
   "metadata": {},
   "source": [
    "## Machine learning\n",
    "\n",
    "The DataFrame object is great for storing a dataset and performing data analysis in Python. However, most machine learning frameworks (e.g. TensorFlow), work directly with NumPy data. Furthermore, the NumPy data used as input to machine learning models must solely contain quantitative values.\n",
    "\n",
    "Therefore, to use a DataFrame's data with a machine learning model, we need to convert the DataFrame to a NumPy matrix of quantitative data. So even the categorical features of a DataFrame, such as gender and birthplace, must be converted to quantitative values."
   ]
  },
  {
   "cell_type": "markdown",
   "id": "70a8772b-2090-437a-9c96-fb42aec5cb0c",
   "metadata": {},
   "source": [
    "## Indicator features\n",
    "\n",
    "When converting a DataFrame to a NumPy matrix of quantitative data, we need to find a way to modify the categorical features in the DataFrame.\n",
    "\n",
    "The easiest way to do this is to convert each categorical feature into a set of indicator features for each of its categories. The indicator feature for a specific category represents whether or not a given data sample belongs to that category."
   ]
  },
  {
   "cell_type": "code",
   "execution_count": 1,
   "id": "a296f437-8b15-4490-a834-4fd37e7d7166",
   "metadata": {},
   "outputs": [
    {
     "name": "stdout",
     "output_type": "stream",
     "text": [
      "    color\n",
      "r1    red\n",
      "r2   blue\n",
      "r3  green\n",
      "r4    red\n",
      "r5    red\n",
      "r6   blue\n",
      "\n",
      "    blue  red  green\n",
      "r1     0    1      0\n",
      "r2     1    0      0\n",
      "r3     0    0      1\n",
      "r4     0    1      0\n",
      "r5     0    1      0\n",
      "r6     1    0      0\n",
      "\n"
     ]
    }
   ],
   "source": [
    "import pandas as pd\n",
    "\n",
    "df = pd.DataFrame([\n",
    "    ['red'],\n",
    "    ['blue'],\n",
    "    ['green'],\n",
    "    ['red'],\n",
    "    ['red'],\n",
    "    ['blue']\n",
    "], columns=['color'], index=['r1', 'r2', 'r3', 'r4', 'r5', 'r6'])\n",
    "\n",
    "indicator_df = pd.DataFrame([\n",
    "    [0,1,0],\n",
    "    [1,0,0],\n",
    "    [0,0,1],\n",
    "    [0,1,0],\n",
    "    [0,1,0],\n",
    "    [1,0,0]\n",
    "], columns=['blue', 'red', 'green'], index=['r1', 'r2', 'r3', 'r4', 'r5', 'r6'])\n",
    "\n",
    "# predefined non-indicator DataFrame\n",
    "print('{}\\n'.format(df))\n",
    "\n",
    "# predefined indicator Dataframe\n",
    "print('{}\\n'.format(indicator_df))"
   ]
  },
  {
   "cell_type": "markdown",
   "id": "c3ff07f8-2b41-4951-b848-17ac7312db3b",
   "metadata": {},
   "source": [
    "## Converting to indicators\n",
    "\n",
    "In pandas, we convert each categorical feature of a DataFrame to indicator features with the get_dummies function. The function takes in a DataFrame as its required argument, and returns the DataFrame with each of its categorical features converted to indicator features.\n",
    "\n",
    "Note that the indicator features have the original categorical feature's label as a prefix. This makes it easy to see where each indicator feature originally came from."
   ]
  },
  {
   "cell_type": "code",
   "execution_count": 2,
   "id": "a9764a00-5a01-4366-a777-80456927f92a",
   "metadata": {
    "collapsed": true,
    "jupyter": {
     "outputs_hidden": true
    },
    "tags": []
   },
   "outputs": [
    {
     "name": "stdout",
     "output_type": "stream",
     "text": [
      "    color\n",
      "r1    red\n",
      "r2   blue\n",
      "r3  green\n",
      "r4    red\n",
      "r5    red\n",
      "r6   blue\n",
      "\n",
      "Index(['color_blue', 'color_green', 'color_red'], dtype='object')\n",
      "\n"
     ]
    },
    {
     "ename": "KeyError",
     "evalue": "\"None of [Index(['teamID_BOS', 'teamID_PIT'], dtype='object')] are in the [columns]\"",
     "output_type": "error",
     "traceback": [
      "\u001b[1;31m---------------------------------------------------------------------------\u001b[0m",
      "\u001b[1;31mKeyError\u001b[0m                                  Traceback (most recent call last)",
      "Input \u001b[1;32mIn [2]\u001b[0m, in \u001b[0;36m<module>\u001b[1;34m\u001b[0m\n\u001b[0;32m     10\u001b[0m converted \u001b[38;5;241m=\u001b[39m pd\u001b[38;5;241m.\u001b[39mget_dummies(df)\n\u001b[0;32m     11\u001b[0m \u001b[38;5;28mprint\u001b[39m(\u001b[38;5;124m'\u001b[39m\u001b[38;5;132;01m{}\u001b[39;00m\u001b[38;5;130;01m\\n\u001b[39;00m\u001b[38;5;124m'\u001b[39m\u001b[38;5;241m.\u001b[39mformat(converted\u001b[38;5;241m.\u001b[39mcolumns))\n\u001b[1;32m---> 13\u001b[0m \u001b[38;5;28mprint\u001b[39m(\u001b[38;5;124m'\u001b[39m\u001b[38;5;132;01m{}\u001b[39;00m\u001b[38;5;130;01m\\n\u001b[39;00m\u001b[38;5;124m'\u001b[39m\u001b[38;5;241m.\u001b[39mformat(\u001b[43mconverted\u001b[49m\u001b[43m[\u001b[49m\u001b[43m[\u001b[49m\u001b[38;5;124;43m'\u001b[39;49m\u001b[38;5;124;43mteamID_BOS\u001b[39;49m\u001b[38;5;124;43m'\u001b[39;49m\u001b[43m,\u001b[49m\n\u001b[0;32m     14\u001b[0m \u001b[43m                               \u001b[49m\u001b[38;5;124;43m'\u001b[39;49m\u001b[38;5;124;43mteamID_PIT\u001b[39;49m\u001b[38;5;124;43m'\u001b[39;49m\u001b[43m]\u001b[49m\u001b[43m]\u001b[49m))\n\u001b[0;32m     15\u001b[0m \u001b[38;5;28mprint\u001b[39m(\u001b[38;5;124m'\u001b[39m\u001b[38;5;132;01m{}\u001b[39;00m\u001b[38;5;130;01m\\n\u001b[39;00m\u001b[38;5;124m'\u001b[39m\u001b[38;5;241m.\u001b[39mformat(converted[[\u001b[38;5;124m'\u001b[39m\u001b[38;5;124mlgID_AL\u001b[39m\u001b[38;5;124m'\u001b[39m,\n\u001b[0;32m     16\u001b[0m                                \u001b[38;5;124m'\u001b[39m\u001b[38;5;124mlgID_NL\u001b[39m\u001b[38;5;124m'\u001b[39m]]))\n",
      "File \u001b[1;32m~\\AppData\\Roaming\\Python\\Python38\\site-packages\\pandas\\core\\frame.py:3512\u001b[0m, in \u001b[0;36mDataFrame.__getitem__\u001b[1;34m(self, key)\u001b[0m\n\u001b[0;32m   3510\u001b[0m     \u001b[38;5;28;01mif\u001b[39;00m is_iterator(key):\n\u001b[0;32m   3511\u001b[0m         key \u001b[38;5;241m=\u001b[39m \u001b[38;5;28mlist\u001b[39m(key)\n\u001b[1;32m-> 3512\u001b[0m     indexer \u001b[38;5;241m=\u001b[39m \u001b[38;5;28;43mself\u001b[39;49m\u001b[38;5;241;43m.\u001b[39;49m\u001b[43mcolumns\u001b[49m\u001b[38;5;241;43m.\u001b[39;49m\u001b[43m_get_indexer_strict\u001b[49m\u001b[43m(\u001b[49m\u001b[43mkey\u001b[49m\u001b[43m,\u001b[49m\u001b[43m \u001b[49m\u001b[38;5;124;43m\"\u001b[39;49m\u001b[38;5;124;43mcolumns\u001b[39;49m\u001b[38;5;124;43m\"\u001b[39;49m\u001b[43m)\u001b[49m[\u001b[38;5;241m1\u001b[39m]\n\u001b[0;32m   3514\u001b[0m \u001b[38;5;66;03m# take() does not accept boolean indexers\u001b[39;00m\n\u001b[0;32m   3515\u001b[0m \u001b[38;5;28;01mif\u001b[39;00m \u001b[38;5;28mgetattr\u001b[39m(indexer, \u001b[38;5;124m\"\u001b[39m\u001b[38;5;124mdtype\u001b[39m\u001b[38;5;124m\"\u001b[39m, \u001b[38;5;28;01mNone\u001b[39;00m) \u001b[38;5;241m==\u001b[39m \u001b[38;5;28mbool\u001b[39m:\n",
      "File \u001b[1;32m~\\AppData\\Roaming\\Python\\Python38\\site-packages\\pandas\\core\\indexes\\base.py:5782\u001b[0m, in \u001b[0;36mIndex._get_indexer_strict\u001b[1;34m(self, key, axis_name)\u001b[0m\n\u001b[0;32m   5779\u001b[0m \u001b[38;5;28;01melse\u001b[39;00m:\n\u001b[0;32m   5780\u001b[0m     keyarr, indexer, new_indexer \u001b[38;5;241m=\u001b[39m \u001b[38;5;28mself\u001b[39m\u001b[38;5;241m.\u001b[39m_reindex_non_unique(keyarr)\n\u001b[1;32m-> 5782\u001b[0m \u001b[38;5;28;43mself\u001b[39;49m\u001b[38;5;241;43m.\u001b[39;49m\u001b[43m_raise_if_missing\u001b[49m\u001b[43m(\u001b[49m\u001b[43mkeyarr\u001b[49m\u001b[43m,\u001b[49m\u001b[43m \u001b[49m\u001b[43mindexer\u001b[49m\u001b[43m,\u001b[49m\u001b[43m \u001b[49m\u001b[43maxis_name\u001b[49m\u001b[43m)\u001b[49m\n\u001b[0;32m   5784\u001b[0m keyarr \u001b[38;5;241m=\u001b[39m \u001b[38;5;28mself\u001b[39m\u001b[38;5;241m.\u001b[39mtake(indexer)\n\u001b[0;32m   5785\u001b[0m \u001b[38;5;28;01mif\u001b[39;00m \u001b[38;5;28misinstance\u001b[39m(key, Index):\n\u001b[0;32m   5786\u001b[0m     \u001b[38;5;66;03m# GH 42790 - Preserve name from an Index\u001b[39;00m\n",
      "File \u001b[1;32m~\\AppData\\Roaming\\Python\\Python38\\site-packages\\pandas\\core\\indexes\\base.py:5842\u001b[0m, in \u001b[0;36mIndex._raise_if_missing\u001b[1;34m(self, key, indexer, axis_name)\u001b[0m\n\u001b[0;32m   5840\u001b[0m     \u001b[38;5;28;01mif\u001b[39;00m use_interval_msg:\n\u001b[0;32m   5841\u001b[0m         key \u001b[38;5;241m=\u001b[39m \u001b[38;5;28mlist\u001b[39m(key)\n\u001b[1;32m-> 5842\u001b[0m     \u001b[38;5;28;01mraise\u001b[39;00m \u001b[38;5;167;01mKeyError\u001b[39;00m(\u001b[38;5;124mf\u001b[39m\u001b[38;5;124m\"\u001b[39m\u001b[38;5;124mNone of [\u001b[39m\u001b[38;5;132;01m{\u001b[39;00mkey\u001b[38;5;132;01m}\u001b[39;00m\u001b[38;5;124m] are in the [\u001b[39m\u001b[38;5;132;01m{\u001b[39;00maxis_name\u001b[38;5;132;01m}\u001b[39;00m\u001b[38;5;124m]\u001b[39m\u001b[38;5;124m\"\u001b[39m)\n\u001b[0;32m   5844\u001b[0m not_found \u001b[38;5;241m=\u001b[39m \u001b[38;5;28mlist\u001b[39m(ensure_index(key)[missing_mask\u001b[38;5;241m.\u001b[39mnonzero()[\u001b[38;5;241m0\u001b[39m]]\u001b[38;5;241m.\u001b[39munique())\n\u001b[0;32m   5845\u001b[0m \u001b[38;5;28;01mraise\u001b[39;00m \u001b[38;5;167;01mKeyError\u001b[39;00m(\u001b[38;5;124mf\u001b[39m\u001b[38;5;124m\"\u001b[39m\u001b[38;5;132;01m{\u001b[39;00mnot_found\u001b[38;5;132;01m}\u001b[39;00m\u001b[38;5;124m not in index\u001b[39m\u001b[38;5;124m\"\u001b[39m)\n",
      "\u001b[1;31mKeyError\u001b[0m: \"None of [Index(['teamID_BOS', 'teamID_PIT'], dtype='object')] are in the [columns]\""
     ]
    }
   ],
   "source": [
    "# df1 = pd.DataFrame([\n",
    "#     ['bettsmo01','AL','BOS'],\n",
    "#     ['martest01','NL','PIT'],\n",
    "#     ['pedrodu01','AL','BOS'],\n",
    "#     ['polangr01','NL','PIT']\n",
    "# ], columns=['playerID','lgID', 'teamID'])\n",
    "# predefined df\n",
    "print('{}\\n'.format(df))\n",
    "#           lgID teamID\n",
    "# playerID             \n",
    "# bettsmo01   AL    BOS\n",
    "# martest01   NL    PIT\n",
    "# pedrodu01   AL    BOS\n",
    "# polangr01   NL    PIT\n",
    "\n",
    "converted = pd.get_dummies(df)\n",
    "print('{}\\n'.format(converted.columns))\n",
    "\n",
    "print('{}\\n'.format(converted[['teamID_BOS',\n",
    "                               'teamID_PIT']]))\n",
    "print('{}\\n'.format(converted[['lgID_AL',\n",
    "                               'lgID_NL']]))\n",
    "\n",
    "# Index(['lgID_AL', 'lgID_NL', 'teamID_BOS', 'teamID_PIT'], dtype='object')\n",
    "\n",
    "#            teamID_BOS  teamID_PIT\n",
    "# playerID                         \n",
    "# bettsmo01           1           0\n",
    "# martest01           0           1\n",
    "# pedrodu01           1           0\n",
    "# polangr01           0           1\n",
    "\n",
    "#            lgID_AL  lgID_NL\n",
    "# playerID                   \n",
    "# bettsmo01        1        0\n",
    "# martest01        0        1\n",
    "# pedrodu01        1        0\n",
    "# polangr01        0        1"
   ]
  },
  {
   "cell_type": "markdown",
   "id": "84f6090b-8909-438b-8a0c-1b06a8e031ff",
   "metadata": {},
   "source": [
    "## Converting to NumPy\n",
    "\n",
    "After converting all the categorical features to indicator features, the DataFrame should have all quantitative data. We can then convert to a NumPy matrix using the values function.\n",
    "\n",
    "The rows and columns of the output matrix correspond to the rows and columns of the same position in the DataFrame. In the code above, the first column of the NumPy matrix represents HR, the second column represents teamID_BOS, and the third column represents teamID_PIT."
   ]
  },
  {
   "cell_type": "code",
   "execution_count": null,
   "id": "2c11a5ab-b322-4c56-bcdc-e2d3a9286855",
   "metadata": {},
   "outputs": [],
   "source": [
    "n_matrix = df.values\n",
    "print(repr(n_matrix))\n",
    "\n",
    "# array([[24,  1,  0],\n",
    "#        [ 7,  0,  1],\n",
    "#        [ 7,  1,  0],\n",
    "#        [11,  0,  1]])"
   ]
  }
 ],
 "metadata": {
  "kernelspec": {
   "display_name": "Python 3 (ipykernel)",
   "language": "python",
   "name": "python3"
  },
  "language_info": {
   "codemirror_mode": {
    "name": "ipython",
    "version": 3
   },
   "file_extension": ".py",
   "mimetype": "text/x-python",
   "name": "python",
   "nbconvert_exporter": "python",
   "pygments_lexer": "ipython3",
   "version": "3.8.2"
  }
 },
 "nbformat": 4,
 "nbformat_minor": 5
}
