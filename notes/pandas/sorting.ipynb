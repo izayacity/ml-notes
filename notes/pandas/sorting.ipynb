{
 "cells": [
  {
   "cell_type": "markdown",
   "id": "6208541c-9f46-4a68-b545-fb941cd91e9f",
   "metadata": {},
   "source": [
    "## Sorting by feature\n",
    "\n",
    "In pandas, the sort_values function allows us to sort a DataFrame by one or more of its columns. The first argument is either a column label or a list of column labels to sort by.\n",
    "- The ascending keyword argument allows us to specify whether to sort in ascending or descending order (default is ascending order, i.e. ascending=True).\n",
    "- The code below demonstrates how to use sort_values with a single column label. The first example sorts by 'yearID' in ascending order, while the second sorts 'playerID' in descending lexicographic (alphabetical) order.\n",
    "- When sorting with a list of column labels, each additional label is used to break ties. Specifically, label i in the list acts as a tiebreaker for label i - 1.\n",
    "- For multi-label inputs to sort_values, we are allowed to specify different sorting orders for each column label."
   ]
  },
  {
   "cell_type": "code",
   "execution_count": 3,
   "id": "61ae35d0-4a99-4fc6-906c-6d6ee2d5e2ae",
   "metadata": {},
   "outputs": [
    {
     "name": "stdout",
     "output_type": "stream",
     "text": [
      "    playerID  yearID teamID  HR\n",
      "0  pedrodu01    2016    BOS  15\n",
      "1  pedrodu01    2017    BOS   7\n",
      "2  troutmi01    2017    LAA  33\n",
      "3   cruzne02    2016    SEA  43\n",
      "4   cruzne02    2017    SEA  39\n",
      "5  troutmi01    2016    LAA  29\n",
      "\n",
      "    playerID  yearID teamID  HR\n",
      "0  pedrodu01    2016    BOS  15\n",
      "3   cruzne02    2016    SEA  43\n",
      "5  troutmi01    2016    LAA  29\n",
      "1  pedrodu01    2017    BOS   7\n",
      "2  troutmi01    2017    LAA  33\n",
      "4   cruzne02    2017    SEA  39\n",
      "\n",
      "    playerID  yearID teamID  HR\n",
      "2  troutmi01    2017    LAA  33\n",
      "5  troutmi01    2016    LAA  29\n",
      "0  pedrodu01    2016    BOS  15\n",
      "1  pedrodu01    2017    BOS   7\n",
      "3   cruzne02    2016    SEA  43\n",
      "4   cruzne02    2017    SEA  39\n",
      "\n",
      "    playerID  yearID teamID  HR\n",
      "3   cruzne02    2016    SEA  43\n",
      "0  pedrodu01    2016    BOS  15\n",
      "5  troutmi01    2016    LAA  29\n",
      "4   cruzne02    2017    SEA  39\n",
      "1  pedrodu01    2017    BOS   7\n",
      "2  troutmi01    2017    LAA  33\n",
      "\n",
      "    playerID  yearID teamID  HR\n",
      "3   cruzne02    2016    SEA  43\n",
      "5  troutmi01    2016    LAA  29\n",
      "0  pedrodu01    2016    BOS  15\n",
      "4   cruzne02    2017    SEA  39\n",
      "2  troutmi01    2017    LAA  33\n",
      "1  pedrodu01    2017    BOS   7\n",
      "\n"
     ]
    }
   ],
   "source": [
    "import pandas as pd\n",
    "\n",
    "df = pd.DataFrame([\n",
    "    ['pedrodu01',2016,'BOS',15],\n",
    "    ['pedrodu01',2017,'BOS',7],\n",
    "    ['troutmi01',2017,'LAA',33],\n",
    "    ['cruzne02',2016,'SEA',43],\n",
    "    ['cruzne02',2017,'SEA',39],\n",
    "    ['troutmi01',2016,'LAA',29]\n",
    "], columns=['playerID', 'yearID', 'teamID', 'HR'])\n",
    "# df is predefined\n",
    "print('{}\\n'.format(df))\n",
    "\n",
    "sort1 = df.sort_values('yearID')\n",
    "print('{}\\n'.format(sort1))\n",
    "\n",
    "sort2 = df.sort_values('playerID', ascending=False)\n",
    "print('{}\\n'.format(sort2))\n",
    "\n",
    "sort1 = df.sort_values(['yearID', 'playerID'])\n",
    "print('{}\\n'.format(sort1))\n",
    "\n",
    "sort2 = df.sort_values(['yearID', 'HR'],\n",
    "                       ascending=[True, False])\n",
    "print('{}\\n'.format(sort2))"
   ]
  },
  {
   "cell_type": "code",
   "execution_count": null,
   "id": "e31e19b5-b797-4001-a6df-ce3a292a06a1",
   "metadata": {},
   "outputs": [],
   "source": []
  }
 ],
 "metadata": {
  "kernelspec": {
   "display_name": "Python 3 (ipykernel)",
   "language": "python",
   "name": "python3"
  },
  "language_info": {
   "codemirror_mode": {
    "name": "ipython",
    "version": 3
   },
   "file_extension": ".py",
   "mimetype": "text/x-python",
   "name": "python",
   "nbconvert_exporter": "python",
   "pygments_lexer": "ipython3",
   "version": "3.8.2"
  }
 },
 "nbformat": 4,
 "nbformat_minor": 5
}
