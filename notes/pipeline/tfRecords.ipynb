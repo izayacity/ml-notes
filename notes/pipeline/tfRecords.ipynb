{
 "cells": [
  {
   "cell_type": "markdown",
   "id": "732b1b15-5d66-44f5-a6ff-6b73111be0c2",
   "metadata": {},
   "source": [
    "## Serialization\n",
    "\n",
    "After creating a tf.train.Example protocol buffer, we normally store it in a file. To do this, we first have to serialize the object, i.e. convert it to a byte string which can be written to a file. The way we serialize a tf.train.Example object is through its SerializeToString method."
   ]
  },
  {
   "cell_type": "code",
   "execution_count": 4,
   "id": "fb0adef7-34ff-45f7-9dd4-858b3faea0b1",
   "metadata": {},
   "outputs": [
    {
     "ename": "TypeError",
     "evalue": "Parameter to MergeFrom() must be instance of same class: expected tensorflow.Feature got str.",
     "output_type": "error",
     "traceback": [
      "\u001b[1;31m---------------------------------------------------------------------------\u001b[0m",
      "\u001b[1;31mTypeError\u001b[0m                                 Traceback (most recent call last)",
      "Input \u001b[1;32mIn [4]\u001b[0m, in \u001b[0;36m<module>\u001b[1;34m\u001b[0m\n\u001b[0;32m      1\u001b[0m \u001b[38;5;28;01mimport\u001b[39;00m \u001b[38;5;21;01mtensorflow\u001b[39;00m \u001b[38;5;28;01mas\u001b[39;00m \u001b[38;5;21;01mtf\u001b[39;00m\n\u001b[0;32m      3\u001b[0m f_dict \u001b[38;5;241m=\u001b[39m {\n\u001b[0;32m      4\u001b[0m     \u001b[38;5;124m'\u001b[39m\u001b[38;5;124mage\u001b[39m\u001b[38;5;124m'\u001b[39m: \u001b[38;5;124m'\u001b[39m\u001b[38;5;124m22\u001b[39m\u001b[38;5;124m'\u001b[39m,\n\u001b[0;32m      5\u001b[0m     \u001b[38;5;124m'\u001b[39m\u001b[38;5;124mname\u001b[39m\u001b[38;5;124m'\u001b[39m: \u001b[38;5;124m'\u001b[39m\u001b[38;5;124mjoe\u001b[39m\u001b[38;5;124m'\u001b[39m\n\u001b[0;32m      6\u001b[0m }\n\u001b[1;32m----> 7\u001b[0m ex \u001b[38;5;241m=\u001b[39m tf\u001b[38;5;241m.\u001b[39mtrain\u001b[38;5;241m.\u001b[39mExample(features\u001b[38;5;241m=\u001b[39m\u001b[43mtf\u001b[49m\u001b[38;5;241;43m.\u001b[39;49m\u001b[43mtrain\u001b[49m\u001b[38;5;241;43m.\u001b[39;49m\u001b[43mFeatures\u001b[49m\u001b[43m(\u001b[49m\u001b[43mfeature\u001b[49m\u001b[38;5;241;43m=\u001b[39;49m\u001b[43mf_dict\u001b[49m\u001b[43m)\u001b[49m)\n\u001b[0;32m      9\u001b[0m \u001b[38;5;28mprint\u001b[39m(\u001b[38;5;28mrepr\u001b[39m(ex))\n\u001b[0;32m     11\u001b[0m ser_ex \u001b[38;5;241m=\u001b[39m ex\u001b[38;5;241m.\u001b[39mSerializeToString()\n",
      "\u001b[1;31mTypeError\u001b[0m: Parameter to MergeFrom() must be instance of same class: expected tensorflow.Feature got str."
     ]
    }
   ],
   "source": [
    "import tensorflow as tf\n",
    "\n",
    "f_dict = {\n",
    "    'age': '22',\n",
    "    'name': 'joe'\n",
    "}\n",
    "ex = tf.train.Example(features=tf.train.Features(feature=f_dict))\n",
    "\n",
    "print(repr(ex))\n",
    "\n",
    "ser_ex = ex.SerializeToString()\n",
    "print(ser_ex)"
   ]
  },
  {
   "cell_type": "markdown",
   "id": "f46cf3c6-befe-41cb-b2fa-6d142a54bdcd",
   "metadata": {},
   "source": [
    "## Writing to data files\n",
    "\n",
    "We store serialized tf.train.Example protocol buffers in special files called TFRecords files. The simple way to write to a TFRecords file is through a TFRecordWriter."
   ]
  },
  {
   "cell_type": "code",
   "execution_count": 2,
   "id": "2157b854-5b56-421f-8d0c-10053c937316",
   "metadata": {},
   "outputs": [
    {
     "ename": "TypeError",
     "evalue": "write(): incompatible function arguments. The following argument types are supported:\n    1. (self: tensorflow.python.lib.io._pywrap_record_io.RecordWriter, record: str) -> None\n\nInvoked with: <tensorflow.python.lib.io.tf_record.TFRecordWriter object at 0x0000022B154BB400>, value: \"\\n\\037\\n\\017\\n\\004name\\022\\007\\n\\005\\n\\003joe\\n\\014\\n\\003age\\022\\005\\032\\003\\n\\001\\026\"\n",
     "output_type": "error",
     "traceback": [
      "\u001b[1;31m---------------------------------------------------------------------------\u001b[0m",
      "\u001b[1;31mTypeError\u001b[0m                                 Traceback (most recent call last)",
      "Input \u001b[1;32mIn [2]\u001b[0m, in \u001b[0;36m<module>\u001b[1;34m\u001b[0m\n\u001b[0;32m      3\u001b[0m ser_ex \u001b[38;5;241m=\u001b[39m tf\u001b[38;5;241m.\u001b[39mtrain\u001b[38;5;241m.\u001b[39mBytesList(value\u001b[38;5;241m=\u001b[39m[\u001b[38;5;124mb\u001b[39m\u001b[38;5;124m'\u001b[39m\u001b[38;5;130;01m\\n\u001b[39;00m\u001b[38;5;130;01m\\x1f\u001b[39;00m\u001b[38;5;130;01m\\n\u001b[39;00m\u001b[38;5;130;01m\\x0f\u001b[39;00m\u001b[38;5;130;01m\\n\u001b[39;00m\u001b[38;5;130;01m\\x04\u001b[39;00m\u001b[38;5;124mname\u001b[39m\u001b[38;5;130;01m\\x12\u001b[39;00m\u001b[38;5;130;01m\\x07\u001b[39;00m\u001b[38;5;130;01m\\n\u001b[39;00m\u001b[38;5;130;01m\\x05\u001b[39;00m\u001b[38;5;130;01m\\n\u001b[39;00m\u001b[38;5;130;01m\\x03\u001b[39;00m\u001b[38;5;124mjoe\u001b[39m\u001b[38;5;130;01m\\n\u001b[39;00m\u001b[38;5;130;01m\\x0c\u001b[39;00m\u001b[38;5;130;01m\\n\u001b[39;00m\u001b[38;5;130;01m\\x03\u001b[39;00m\u001b[38;5;124mage\u001b[39m\u001b[38;5;130;01m\\x12\u001b[39;00m\u001b[38;5;130;01m\\x05\u001b[39;00m\u001b[38;5;130;01m\\x1a\u001b[39;00m\u001b[38;5;130;01m\\x03\u001b[39;00m\u001b[38;5;130;01m\\n\u001b[39;00m\u001b[38;5;130;01m\\x01\u001b[39;00m\u001b[38;5;130;01m\\x16\u001b[39;00m\u001b[38;5;124m'\u001b[39m])\n\u001b[0;32m      4\u001b[0m writer \u001b[38;5;241m=\u001b[39m tf\u001b[38;5;241m.\u001b[39mio\u001b[38;5;241m.\u001b[39mTFRecordWriter(\u001b[38;5;124m'\u001b[39m\u001b[38;5;124mout.tfrecords\u001b[39m\u001b[38;5;124m'\u001b[39m)\n\u001b[1;32m----> 5\u001b[0m \u001b[43mwriter\u001b[49m\u001b[38;5;241;43m.\u001b[39;49m\u001b[43mwrite\u001b[49m\u001b[43m(\u001b[49m\u001b[43mser_ex\u001b[49m\u001b[43m)\u001b[49m\n\u001b[0;32m      6\u001b[0m writer\u001b[38;5;241m.\u001b[39mclose()\n",
      "File \u001b[1;32m~\\AppData\\Roaming\\Python\\Python38\\site-packages\\tensorflow\\python\\lib\\io\\tf_record.py:309\u001b[0m, in \u001b[0;36mTFRecordWriter.write\u001b[1;34m(self, record)\u001b[0m\n\u001b[0;32m    303\u001b[0m \u001b[38;5;28;01mdef\u001b[39;00m \u001b[38;5;21mwrite\u001b[39m(\u001b[38;5;28mself\u001b[39m, record):\n\u001b[0;32m    304\u001b[0m   \u001b[38;5;124;03m\"\"\"Write a string record to the file.\u001b[39;00m\n\u001b[0;32m    305\u001b[0m \n\u001b[0;32m    306\u001b[0m \u001b[38;5;124;03m  Args:\u001b[39;00m\n\u001b[0;32m    307\u001b[0m \u001b[38;5;124;03m    record: str\u001b[39;00m\n\u001b[0;32m    308\u001b[0m \u001b[38;5;124;03m  \"\"\"\u001b[39;00m\n\u001b[1;32m--> 309\u001b[0m   \u001b[38;5;28;43msuper\u001b[39;49m\u001b[43m(\u001b[49m\u001b[43mTFRecordWriter\u001b[49m\u001b[43m,\u001b[49m\u001b[43m \u001b[49m\u001b[38;5;28;43mself\u001b[39;49m\u001b[43m)\u001b[49m\u001b[38;5;241;43m.\u001b[39;49m\u001b[43mwrite\u001b[49m\u001b[43m(\u001b[49m\u001b[43mrecord\u001b[49m\u001b[43m)\u001b[49m\n",
      "\u001b[1;31mTypeError\u001b[0m: write(): incompatible function arguments. The following argument types are supported:\n    1. (self: tensorflow.python.lib.io._pywrap_record_io.RecordWriter, record: str) -> None\n\nInvoked with: <tensorflow.python.lib.io.tf_record.TFRecordWriter object at 0x0000022B154BB400>, value: \"\\n\\037\\n\\017\\n\\004name\\022\\007\\n\\005\\n\\003joe\\n\\014\\n\\003age\\022\\005\\032\\003\\n\\001\\026\"\n"
     ]
    }
   ],
   "source": [
    "import tensorflow as tf\n",
    "\n",
    "ser_ex = tf.train.BytesList(value=[b'\\n\\x1f\\n\\x0f\\n\\x04name\\x12\\x07\\n\\x05\\n\\x03joe\\n\\x0c\\n\\x03age\\x12\\x05\\x1a\\x03\\n\\x01\\x16'])\n",
    "writer = tf.io.TFRecordWriter('out.tfrecords')\n",
    "writer.write(ser_ex)\n",
    "writer.close()"
   ]
  },
  {
   "cell_type": "code",
   "execution_count": null,
   "id": "fddc4ebb-3e0e-40b5-b8f4-466a000cea35",
   "metadata": {},
   "outputs": [],
   "source": []
  }
 ],
 "metadata": {
  "kernelspec": {
   "display_name": "Python 3 (ipykernel)",
   "language": "python",
   "name": "python3"
  },
  "language_info": {
   "codemirror_mode": {
    "name": "ipython",
    "version": 3
   },
   "file_extension": ".py",
   "mimetype": "text/x-python",
   "name": "python",
   "nbconvert_exporter": "python",
   "pygments_lexer": "ipython3",
   "version": "3.8.2"
  }
 },
 "nbformat": 4,
 "nbformat_minor": 5
}
