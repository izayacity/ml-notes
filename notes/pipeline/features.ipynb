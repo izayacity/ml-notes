{
 "cells": [
  {
   "cell_type": "markdown",
   "id": "93d3cc62-87be-4557-a3de-fc358feb510e",
   "metadata": {},
   "source": [
    "## Example spec\n",
    "\n",
    "When we read from a TFRecords file for our input pipeline, we get back the serialized versions of the protocol buffers. What we really want, though, are easily accessible data values for each feature from the original protocol buffer. In order to achieve this, we need an Example spec.\n",
    "\n",
    "An Example spec is a dictionary that maps the feature names from the original tf.train.Example protocol buffer to particular configuration classes for each feature. Specifically, a feature is in exactly one of two configuration classes: VarLenFeature or FixedLenFeature.\n",
    "\n",
    "## Class configuration\n",
    "\n",
    "When we use either a VarLenFeature or FixedLenFeature, we always have to set the TensorFlow datatype. For the Example spec, this datatype will either be tf.int64, tf.float32, or tf.string.\n",
    "\n",
    "In addition to the datatype, the FixedLenFeature class also takes in the fixed shape and an optional default value. The default value is used in place of any missing values in the feature (e.g. if the shape specifies 4 values but the protocol buffer only has 2).\n",
    "\n",
    "Note that the () represents a single value shape. This actually differs from using 1 as the shape argument, for reasons we’ll discuss in upcoming chapters."
   ]
  },
  {
   "cell_type": "code",
   "execution_count": 1,
   "id": "b42b5369-f144-43af-a13d-e441bca152d3",
   "metadata": {},
   "outputs": [
    {
     "name": "stdout",
     "output_type": "stream",
     "text": [
      "{'name': FixedLenFeature(shape=(), dtype=tf.string, default_value=None), 'jobs': VarLenFeature(dtype=tf.string), 'salary': FixedLenFeature(shape=2, dtype=tf.int64, default_value=0)}\n"
     ]
    }
   ],
   "source": [
    "import tensorflow as tf\n",
    "\n",
    "name = tf.io.FixedLenFeature((), tf.string)\n",
    "jobs = tf.io.VarLenFeature(tf.string)\n",
    "salary = tf.io.FixedLenFeature(2, tf.int64, default_value=0)\n",
    "example_spec = {\n",
    "    'name': name,\n",
    "    'jobs': jobs,\n",
    "    'salary': salary\n",
    "}\n",
    "\n",
    "print(example_spec)"
   ]
  },
  {
   "cell_type": "code",
   "execution_count": null,
   "id": "1bd75112-8620-446a-b0ff-5944a529d5e9",
   "metadata": {},
   "outputs": [],
   "source": []
  }
 ],
 "metadata": {
  "kernelspec": {
   "display_name": "Python 3 (ipykernel)",
   "language": "python",
   "name": "python3"
  },
  "language_info": {
   "codemirror_mode": {
    "name": "ipython",
    "version": 3
   },
   "file_extension": ".py",
   "mimetype": "text/x-python",
   "name": "python",
   "nbconvert_exporter": "python",
   "pygments_lexer": "ipython3",
   "version": "3.8.2"
  }
 },
 "nbformat": 4,
 "nbformat_minor": 5
}
