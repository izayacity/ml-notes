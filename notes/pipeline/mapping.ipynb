{
 "cells": [
  {
   "cell_type": "markdown",
   "id": "5aa42e8f-b128-4419-b3d9-5be5363d57d7",
   "metadata": {},
   "source": [
    "## Mapping function\n",
    "\n",
    "After initially creating a dataset from NumPy arrays or files, we oftentimes want to apply changes to make the dataset observations more useful. For example, we might create a dataset from heights measured in inches, but we want to train a model on the heights in centimeters. We can convert each observation to the desired format by using the map function."
   ]
  },
  {
   "cell_type": "code",
   "execution_count": 1,
   "id": "2d80dc56-1e86-419d-ae2e-07fa61016d36",
   "metadata": {},
   "outputs": [
    {
     "name": "stdout",
     "output_type": "stream",
     "text": [
      "tf.Tensor([1.3 2.3], shape=(2,), dtype=float64)\n",
      "tf.Tensor([8.4 1.1], shape=(2,), dtype=float64)\n"
     ]
    }
   ],
   "source": [
    "import numpy as np\n",
    "import tensorflow as tf\n",
    "\n",
    "data1 = np.array([[1.2, 2.2],\n",
    "       [7.3, 0. ]])\n",
    "data2 = np.array([0.1, 1.1])\n",
    "d1 = tf.data.Dataset.from_tensor_slices((data1, data2))\n",
    "d2 = d1.map(lambda x,y:x + y)\n",
    "\n",
    "for val2 in d2:\n",
    "       print(val2)"
   ]
  },
  {
   "cell_type": "markdown",
   "id": "28c6e8b3-890a-4ce0-93bd-0469be65b3d6",
   "metadata": {},
   "source": [
    "## Wrapper functions\n",
    "\n",
    "One thing to note about map is that its input function must only take in a single argument, representing an individual dataset observation. However, we may want to use a multi-argument function as the input to map. In this case, we can use a wrapper to ensure that the input function is in the correct format."
   ]
  },
  {
   "cell_type": "code",
   "execution_count": 2,
   "id": "51f2a6e7-1211-49d6-94b1-25b9d397e9a8",
   "metadata": {},
   "outputs": [
    {
     "name": "stdout",
     "output_type": "stream",
     "text": [
      "tf.Tensor([4.1 2.2], shape=(2,), dtype=float64)\n",
      "tf.Tensor([1.1 0.5], shape=(2,), dtype=float64)\n"
     ]
    }
   ],
   "source": [
    "def f(a, b):\n",
    "       return a - b\n",
    "data1 = np.array([[4.3, 2.7],\n",
    "       [1.3, 1. ]])\n",
    "data2 = np.array([0.2, 0.5])\n",
    "d1 = tf.data.Dataset.from_tensor_slices(data1)\n",
    "d2 = d1.map(lambda x:f(x, data2))\n",
    "\n",
    "for val2 in d2:\n",
    "       print(val2)"
   ]
  },
  {
   "cell_type": "code",
   "execution_count": null,
   "id": "8cd0634f-a2d6-407f-82d6-6308b7b23581",
   "metadata": {},
   "outputs": [],
   "source": []
  }
 ],
 "metadata": {
  "kernelspec": {
   "display_name": "Python 3 (ipykernel)",
   "language": "python",
   "name": "python3"
  },
  "language_info": {
   "codemirror_mode": {
    "name": "ipython",
    "version": 3
   },
   "file_extension": ".py",
   "mimetype": "text/x-python",
   "name": "python",
   "nbconvert_exporter": "python",
   "pygments_lexer": "ipython3",
   "version": "3.8.2"
  }
 },
 "nbformat": 4,
 "nbformat_minor": 5
}
