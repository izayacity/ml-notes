{
 "cells": [
  {
   "cell_type": "markdown",
   "id": "d732676a-af61-49ef-b000-d67bbd819b89",
   "metadata": {},
   "source": [
    "## Feature parsing\n",
    "\n",
    "After creating an Example spec, it can be used to parse serialized protocol buffers that are read from a TFRecords file. Specifically, we use the Example spec as an argument to the tf.io.parse_single_example function, which converts a serialized protocol buffer into a usable feature dictionary."
   ]
  },
  {
   "cell_type": "code",
   "execution_count": null,
   "id": "ff892199-3800-475f-8c11-b82acb95631d",
   "metadata": {},
   "outputs": [],
   "source": [
    "import tensorflow as tf\n",
    "\n",
    "print(example_spec)\n",
    "# {'student_id': FixedLenFeature(shape=[], dtype=tf.string, default_value='N/A'), 'yearly_gpa': FixedLenFeature(shape=4, dtype=tf.float32, default_value=None), 'majors': VarLenFeature(dtype=tf.string)}\n",
    "print(repr(ex))\n",
    "# features {\n",
    "#   feature {\n",
    "#     key: \"majors\"\n",
    "#     value {\n",
    "#       bytes_list {\n",
    "#         value: \"English\"\n",
    "#         value: \"Psychology\"\n",
    "#       }\n",
    "#     }\n",
    "#   }\n",
    "#   feature {\n",
    "#     key: \"student_id\"\n",
    "#     value {\n",
    "#       bytes_list {\n",
    "#         value: \"leemaya\"\n",
    "#       }\n",
    "#     }\n",
    "#   }\n",
    "#   feature {\n",
    "#     key: \"yearly_gpa\"\n",
    "#     value {\n",
    "#       float_list {\n",
    "#         value: 3.9600000381469727\n",
    "#         value: 4.0\n",
    "#         value: 3.880000114440918\n",
    "#         value: 3.930000066757202\n",
    "#       }\n",
    "#     }\n",
    "#   }\n",
    "# }\n",
    "\n",
    "parsed = tf.io.parse_single_example(\n",
    "    ex.SerializeToString(), example_spec)\n",
    "print(repr(parsed))\n",
    "# {'majors': <tensorflow.python.framework.sparse_tensor.SparseTensor object at 0x7f4e60dfe490>, 'student_id': <tf.Tensor: shape=(), dtype=string, numpy=b'leemaya'>, 'yearly_gpa': <tf.Tensor: shape=(4,), dtype=float32, numpy=array([3.96, 4.  , 3.88, 3.93], dtype=float32)>}"
   ]
  },
  {
   "cell_type": "markdown",
   "id": "3e177cc8-dadb-4ff9-9996-0a6427cf79ef",
   "metadata": {},
   "source": [
    "You’ll notice that the output of tf.io.parse_single_example is a dictionary mapping feature names to either a tf.Tensor or a tf.sparse.SparseTensor. Each FixedLenFeature is converted to a tf.Tensor and each VarLenFeature is converted to a tf.SparseTensor.\n",
    "\n",
    "A tf.Tensor is basically TensorFlow’s version of NumPy arrays, meaning it is a container for feature data with a fixed shape. tf.sparse.SparseTensor is used to represent data that may have many missing or empty values, making it useful for variable-length features.\n",
    "\n",
    "## Shapes: () vs. 1\n",
    "\n",
    "Using () (or []) corresponds to a single data value, while using 1 (represented as (1,) in tf.Tensor) corresponds to a list containing a single data value."
   ]
  }
 ],
 "metadata": {
  "kernelspec": {
   "display_name": "Python 3 (ipykernel)",
   "language": "python",
   "name": "python3"
  },
  "language_info": {
   "codemirror_mode": {
    "name": "ipython",
    "version": 3
   },
   "file_extension": ".py",
   "mimetype": "text/x-python",
   "name": "python",
   "nbconvert_exporter": "python",
   "pygments_lexer": "ipython3",
   "version": "3.8.2"
  }
 },
 "nbformat": 4,
 "nbformat_minor": 5
}
