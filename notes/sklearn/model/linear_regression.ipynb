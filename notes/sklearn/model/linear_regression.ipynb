{
 "cells": [
  {
   "cell_type": "markdown",
   "id": "faa1a10c-aeaf-4581-b23f-c8d61b6a8133",
   "metadata": {},
   "source": [
    "## What is linear regression\n",
    "\n",
    "One of the main objectives in both machine learning and data science is finding an equation or distribution that best fits a given dataset. This is known as data modeling, where we create a model that uses the dataset's features as independent variables to predict output values for some dependent variable (with minimal error). However, it is incredibly difficult to find an optimal model for most datasets, given the amount of noise (i.e. random errors/fluctuations) in real world data.\n",
    "\n",
    "Since finding an optimal model for a dataset is difficult, we instead try to find a good approximating distribution. In many cases, a linear model (a linear combination of the dataset's features) can approximate the data well. The term linear regression refers to using a linear model to represent the relationship between a set of independent variables and a dependent variable.\n",
    "\n",
    "y = ax_1 + bx_2 + cx_3 + d\n",
    "\n",
    "The above formula is example linear model which produces output y (dependent variable) based on the linear combination of independent variables x_1, x_2, x_3. The coefficients a, b, c and intercept d determine the model's fit.\n",
    "\n",
    "## Linear Combination\n",
    "\n",
    "A sum of the elements from some set with constant coefficients placed in front of each. For example, a linear combination of the vectors x, y, and z is given by\n",
    "\n",
    "ax+by+cz, \n",
    "where a, b, and c are constants.\n",
    "\n",
    "## Basic linear regression\n",
    "\n",
    "The simplest form of linear regression is called least squares regression(https://en.wikipedia.org/wiki/Least_squares). This strategy produces a regression model, which is a linear combination of the independent variables, that minimizes the sum of squared residuals(https://en.wikipedia.org/wiki/Residual_sum_of_squares) between the model's predictions and actual values for the dependent variable.\n",
    "\n",
    "In scikit-learn, the least squares regression model is implemented with the LinearRegression object, which is a part of the linear_model module in sklearn. The object contains a fit function, which takes in an input dataset of features (independent variables) and an array of labels (dependent variables) for each data observation (rows of the dataset).\n",
    "\n",
    "The code below demonstrates how to fit a LinearRegression model to a dataset of 5 different pizzas (pizza_data) and corresponding pizza prices. The first column of pizza_data represents the number of calories and the second column represents net weight (in grams)."
   ]
  },
  {
   "cell_type": "code",
   "execution_count": 1,
   "id": "d18d9b3c-f4fb-4dcc-a34d-fc5b9c98573c",
   "metadata": {},
   "outputs": [
    {
     "data": {
      "text/plain": [
       "LinearRegression()"
      ]
     },
     "execution_count": 1,
     "metadata": {},
     "output_type": "execute_result"
    }
   ],
   "source": [
    "from sklearn import linear_model\n",
    "\n",
    "pizza_data = [[2100,  800],\n",
    "       [2500,  850],\n",
    "       [1800,  760],\n",
    "       [2000,  800],\n",
    "       [2300,  810]]\n",
    "pizza_prices = [10.99, 12.5 ,  9.99, 10.99, 11.99]\n",
    "\n",
    "reg = linear_model.LinearRegression()\n",
    "reg.fit(pizza_data, pizza_prices)"
   ]
  },
  {
   "cell_type": "markdown",
   "id": "72c0ea09-39d1-4065-9697-980682a74b59",
   "metadata": {},
   "source": [
    "After calling the fit function, the model is ready to use. The predict function allows us to make predictions on new data. We can also get the specific coefficients and intercept for the linear combination using the coef_ and intercept_ properties, respectively.\n",
    "\n",
    "Finally, we can retrieve the coefficient of determination (https://en.wikipedia.org/wiki/Coefficient_of_determination, or R2 value) using the score function applied to the dataset and labels. The R2 value tells us how close of a fit the linear model is to the data, or in other words, how good of a fit the model is for the data.\n",
    "\n",
    "The traditional R2 value is a real number between 0 and 1. In scikit-learn it ranges from -∞ to 1, where lower values denote a poorer model fit to the data. The closer the value is to 1, the better the model's fit on the data. In the example above, we see that the model is a near perfect fit for the pizza data."
   ]
  },
  {
   "cell_type": "code",
   "execution_count": 3,
   "id": "fefebb04-e2ec-4132-b883-3da40cc9b232",
   "metadata": {},
   "outputs": [
    {
     "name": "stdout",
     "output_type": "stream",
     "text": [
      "array([10.86599206, 11.55111111])\n",
      "\n",
      "Coefficients: array([0.00330913, 0.00232937])\n",
      "\n",
      "Intercept: 2.337658730158733\n",
      "\n",
      "R2: 0.9758349388652625\n",
      "\n"
     ]
    }
   ],
   "source": [
    "import numpy as np\n",
    "\n",
    "new_pizzas = np.array([[2000,  820],\n",
    "                       [2200,  830]])\n",
    "\n",
    "price_predicts = reg.predict(new_pizzas)\n",
    "print('{}\\n'.format(repr(price_predicts)))\n",
    "\n",
    "print('Coefficients: {}\\n'.format(repr(reg.coef_)))\n",
    "print('Intercept: {}\\n'.format(reg.intercept_))\n",
    "\n",
    "# Using previously defined pizza_data, pizza_prices\n",
    "r2 = reg.score(pizza_data, pizza_prices)\n",
    "print('R2: {}\\n'.format(r2))"
   ]
  },
  {
   "cell_type": "code",
   "execution_count": null,
   "id": "de15531a-e0d6-447a-9b19-ac1d479a7f4a",
   "metadata": {},
   "outputs": [],
   "source": []
  }
 ],
 "metadata": {
  "kernelspec": {
   "display_name": "Python 3 (ipykernel)",
   "language": "python",
   "name": "python3"
  },
  "language_info": {
   "codemirror_mode": {
    "name": "ipython",
    "version": 3
   },
   "file_extension": ".py",
   "mimetype": "text/x-python",
   "name": "python",
   "nbconvert_exporter": "python",
   "pygments_lexer": "ipython3",
   "version": "3.8.2"
  }
 },
 "nbformat": 4,
 "nbformat_minor": 5
}
