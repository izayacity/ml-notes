{
 "cells": [
  {
   "cell_type": "markdown",
   "id": "5c8d2829-e96d-4379-b27d-a38e25b9b69e",
   "metadata": {},
   "source": [
    "## Data imputation methods\n",
    "\n",
    "In real life, we often have to deal with data that contains missing values. Sometimes, if the dataset is missing too many values, we just don't use it. However, if only a few of the values are missing, we can perform data imputation to substitute the missing data with some other value(s).\n",
    "\n",
    "There are many different methods for data imputation. In scikit-learn, the SimpleImputer transformer performs four different data imputation methods.\n",
    "\n",
    "The four methods are:\n",
    "- Using the mean value\n",
    "- Using the median value\n",
    "- Using the most frequent value\n",
    "- Filling in missing values with a constant\n",
    "\n",
    "The default imputation method for SimpleImputer is using the column means. By using the strategy keyword argument when initializing a SimpleImputer object, we can specify a different imputation method."
   ]
  },
  {
   "cell_type": "code",
   "execution_count": 4,
   "id": "b045bd8e-674a-49dd-bf65-907e0f56e952",
   "metadata": {},
   "outputs": [
    {
     "name": "stdout",
     "output_type": "stream",
     "text": [
      "array([[1.  , 2.  , 4.  , 2.  ],\n",
      "       [5.  , 5.  , 1.  , 2.  ],\n",
      "       [4.  , 5.  , 3.  , 1.25],\n",
      "       [5.  , 6.  , 8.  , 1.  ],\n",
      "       [3.75, 7.  , 4.  , 0.  ]])\n",
      "\n",
      "array([[1. , 2. , 3. , 2. ],\n",
      "       [5. , 6. , 1. , 2. ],\n",
      "       [4. , 6. , 3. , 1.5],\n",
      "       [5. , 6. , 8. , 1. ],\n",
      "       [4.5, 7. , 3. , 0. ]])\n",
      "\n",
      "array([[1., 2., 1., 2.],\n",
      "       [5., 2., 1., 2.],\n",
      "       [4., 2., 3., 2.],\n",
      "       [5., 6., 8., 1.],\n",
      "       [5., 7., 1., 0.]])\n",
      "\n",
      "array([[ 1.,  2., -1.,  2.],\n",
      "       [ 5., -1.,  1.,  2.],\n",
      "       [ 4., -1.,  3., -1.],\n",
      "       [ 5.,  6.,  8.,  1.],\n",
      "       [-1.,  7., -1.,  0.]])\n",
      "\n"
     ]
    }
   ],
   "source": [
    "from sklearn.impute import SimpleImputer\n",
    "import numpy as np\n",
    "\n",
    "data = [\n",
    "        [ 1.,  2., np.nan,  2.],\n",
    "        [ 5., np.nan,  1.,  2.],\n",
    "        [ 4., np.nan,  3., np.nan],\n",
    "        [ 5.,  6.,  8.,  1.],\n",
    "        [np.nan,  7., np.nan,  0.]\n",
    "]\n",
    "imp_mean = SimpleImputer()\n",
    "transformed = imp_mean.fit_transform(data)\n",
    "print('{}\\n'.format(repr(transformed)))\n",
    "\n",
    "imp_median = SimpleImputer(strategy='median')\n",
    "transformed = imp_median.fit_transform(data)\n",
    "print('{}\\n'.format(repr(transformed)))\n",
    "\n",
    "imp_frequent = SimpleImputer(strategy='most_frequent')\n",
    "transformed = imp_frequent.fit_transform(data)\n",
    "print('{}\\n'.format(repr(transformed)))\n",
    "\n",
    "imp_constant = SimpleImputer(strategy='constant',\n",
    "                             fill_value=-1)\n",
    "transformed = imp_constant.fit_transform(data)\n",
    "print('{}\\n'.format(repr(transformed)))"
   ]
  },
  {
   "cell_type": "markdown",
   "id": "758ffc3c-8fe2-4bf1-bcb3-ffaa21ef1fae",
   "metadata": {},
   "source": [
    "## Other imputation methods\n",
    "\n",
    "There are also more advanced imputation methods such as k-Nearest Neighbors (https://en.wikipedia.org/wiki/K-nearest_neighbors_algorithm, filling in missing values based on similarity scores from the kNN algorithm) and MICE (https://www.ncbi.nlm.nih.gov/pmc/articles/PMC3074241/, applying multiple chained imputations, assuming the missing values are randomly distributed across observations).\n",
    "\n",
    "In most industry cases these advanced methods are not required, since the data is either perfectly cleaned or the missing values are scarce. Nevertheless, the advanced methods could be useful when dealing with open source datasets, since these tend to be more incomplete."
   ]
  },
  {
   "cell_type": "code",
   "execution_count": null,
   "id": "f37588d3-775a-434a-aa22-0ed3a0cb577c",
   "metadata": {},
   "outputs": [],
   "source": []
  }
 ],
 "metadata": {
  "kernelspec": {
   "display_name": "Python 3 (ipykernel)",
   "language": "python",
   "name": "python3"
  },
  "language_info": {
   "codemirror_mode": {
    "name": "ipython",
    "version": 3
   },
   "file_extension": ".py",
   "mimetype": "text/x-python",
   "name": "python",
   "nbconvert_exporter": "python",
   "pygments_lexer": "ipython3",
   "version": "3.8.2"
  }
 },
 "nbformat": 4,
 "nbformat_minor": 5
}
