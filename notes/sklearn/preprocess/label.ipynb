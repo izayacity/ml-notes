{
 "cells": [
  {
   "cell_type": "markdown",
   "id": "d85c03ff-6559-4d61-9e02-29b6aa2ac7d4",
   "metadata": {},
   "source": [
    "## Class labels\n",
    "\n",
    "A big part of data science is classifying observations in a dataset into separate categories, or classes. A popular use case of data classification is in separating a dataset into \"good\" and \"bad\" categories. For example, we can classify a dataset of breast tumors as either malignant or benign.\n",
    "\n",
    "The code below separates a breast cancer dataset into malignant and benign categories. The load_breast_cancer function is part of the scikit-learn library, and its data comes from the Breast Cancer Wisconsin dataset(https://archive.ics.uci.edu/ml/datasets/Breast+Cancer+Wisconsin+(Diagnostic)).\n",
    "\n",
    "In the example below, the bc.data array contains all the dataset values, while the bc.target array contains the class ID labels for each row in bc.data. A class ID of 0 corresponds to a malignant tumor, while a class ID of 1 corresponds to a benign tumor.\n",
    "\n",
    "Using the bc.target class IDs, we separated the dataset into malignant and benign data arrays. In other words, the malignant array contains the rows of bc.data corresponding to the indexes in bc.target containing 0, while the benign array contains the rows of bc.data corresponding to the indexes in bc.target containing 1. There are 212 malignant data observations and 357 benign observations."
   ]
  },
  {
   "cell_type": "code",
   "execution_count": 1,
   "id": "e82c8654-f7d0-4811-8442-f1b5845c380b",
   "metadata": {},
   "outputs": [
    {
     "name": "stdout",
     "output_type": "stream",
     "text": [
      "array([[1.799e+01, 1.038e+01, 1.228e+02, ..., 2.654e-01, 4.601e-01,\n",
      "        1.189e-01],\n",
      "       [2.057e+01, 1.777e+01, 1.329e+02, ..., 1.860e-01, 2.750e-01,\n",
      "        8.902e-02],\n",
      "       [1.969e+01, 2.125e+01, 1.300e+02, ..., 2.430e-01, 3.613e-01,\n",
      "        8.758e-02],\n",
      "       ...,\n",
      "       [1.660e+01, 2.808e+01, 1.083e+02, ..., 1.418e-01, 2.218e-01,\n",
      "        7.820e-02],\n",
      "       [2.060e+01, 2.933e+01, 1.401e+02, ..., 2.650e-01, 4.087e-01,\n",
      "        1.240e-01],\n",
      "       [7.760e+00, 2.454e+01, 4.792e+01, ..., 0.000e+00, 2.871e-01,\n",
      "        7.039e-02]])\n",
      "\n",
      "Data shape: (569, 30)\n",
      "\n",
      "array([0, 0, 0, 0, 0, 0, 0, 0, 0, 0, 0, 0, 0, 0, 0, 0, 0, 0, 0, 1, 1, 1,\n",
      "       0, 0, 0, 0, 0, 0, 0, 0, 0, 0, 0, 0, 0, 0, 0, 1, 0, 0, 0, 0, 0, 0,\n",
      "       0, 0, 1, 0, 1, 1, 1, 1, 1, 0, 0, 1, 0, 0, 1, 1, 1, 1, 0, 1, 0, 0,\n",
      "       1, 1, 1, 1, 0, 1, 0, 0, 1, 0, 1, 0, 0, 1, 1, 1, 0, 0, 1, 0, 0, 0,\n",
      "       1, 1, 1, 0, 1, 1, 0, 0, 1, 1, 1, 0, 0, 1, 1, 1, 1, 0, 1, 1, 0, 1,\n",
      "       1, 1, 1, 1, 1, 1, 1, 0, 0, 0, 1, 0, 0, 1, 1, 1, 0, 0, 1, 0, 1, 0,\n",
      "       0, 1, 0, 0, 1, 1, 0, 1, 1, 0, 1, 1, 1, 1, 0, 1, 1, 1, 1, 1, 1, 1,\n",
      "       1, 1, 0, 1, 1, 1, 1, 0, 0, 1, 0, 1, 1, 0, 0, 1, 1, 0, 0, 1, 1, 1,\n",
      "       1, 0, 1, 1, 0, 0, 0, 1, 0, 1, 0, 1, 1, 1, 0, 1, 1, 0, 0, 1, 0, 0,\n",
      "       0, 0, 1, 0, 0, 0, 1, 0, 1, 0, 1, 1, 0, 1, 0, 0, 0, 0, 1, 1, 0, 0,\n",
      "       1, 1, 1, 0, 1, 1, 1, 1, 1, 0, 0, 1, 1, 0, 1, 1, 0, 0, 1, 0, 1, 1,\n",
      "       1, 1, 0, 1, 1, 1, 1, 1, 0, 1, 0, 0, 0, 0, 0, 0, 0, 0, 0, 0, 0, 0,\n",
      "       0, 0, 1, 1, 1, 1, 1, 1, 0, 1, 0, 1, 1, 0, 1, 1, 0, 1, 0, 0, 1, 1,\n",
      "       1, 1, 1, 1, 1, 1, 1, 1, 1, 1, 1, 0, 1, 1, 0, 1, 0, 1, 1, 1, 1, 1,\n",
      "       1, 1, 1, 1, 1, 1, 1, 1, 1, 0, 1, 1, 1, 0, 1, 0, 1, 1, 1, 1, 0, 0,\n",
      "       0, 1, 1, 1, 1, 0, 1, 0, 1, 0, 1, 1, 1, 0, 1, 1, 1, 1, 1, 1, 1, 0,\n",
      "       0, 0, 1, 1, 1, 1, 1, 1, 1, 1, 1, 1, 1, 0, 0, 1, 0, 0, 0, 1, 0, 0,\n",
      "       1, 1, 1, 1, 1, 0, 1, 1, 1, 1, 1, 0, 1, 1, 1, 0, 1, 1, 0, 0, 1, 1,\n",
      "       1, 1, 1, 1, 0, 1, 1, 1, 1, 1, 1, 1, 0, 1, 1, 1, 1, 1, 0, 1, 1, 0,\n",
      "       1, 1, 1, 1, 1, 1, 1, 1, 1, 1, 1, 1, 0, 1, 0, 0, 1, 0, 1, 1, 1, 1,\n",
      "       1, 0, 1, 1, 0, 1, 0, 1, 1, 0, 1, 0, 1, 1, 1, 1, 1, 1, 1, 1, 0, 0,\n",
      "       1, 1, 1, 1, 1, 1, 0, 1, 1, 1, 1, 1, 1, 1, 1, 1, 1, 0, 1, 1, 1, 1,\n",
      "       1, 1, 1, 0, 1, 0, 1, 1, 0, 1, 1, 1, 1, 1, 0, 0, 1, 0, 1, 0, 1, 1,\n",
      "       1, 1, 1, 0, 1, 1, 0, 1, 0, 1, 0, 0, 1, 1, 1, 0, 1, 1, 1, 1, 1, 1,\n",
      "       1, 1, 1, 1, 1, 0, 1, 0, 0, 1, 1, 1, 1, 1, 1, 1, 1, 1, 1, 1, 1, 1,\n",
      "       1, 1, 1, 1, 1, 1, 1, 1, 1, 1, 1, 1, 0, 0, 0, 0, 0, 0, 1])\n",
      "\n",
      "Labels shape: (569,)\n",
      "\n",
      "['malignant', 'benign']\n",
      "\n",
      "Malignant shape: (212, 30)\n",
      "\n",
      "Benign shape: (357, 30)\n",
      "\n"
     ]
    }
   ],
   "source": [
    "from sklearn.datasets import load_breast_cancer\n",
    "\n",
    "bc = load_breast_cancer()\n",
    "print('{}\\n'.format(repr(bc.data)))\n",
    "print('Data shape: {}\\n'.format(bc.data.shape))\n",
    "\n",
    "# Class labels\n",
    "print('{}\\n'.format(repr(bc.target)))\n",
    "print('Labels shape: {}\\n'.format(bc.target.shape))\n",
    "\n",
    "# Label names\n",
    "print('{}\\n'.format(list(bc.target_names)))\n",
    "\n",
    "malignant = bc.data[bc.target == 0]\n",
    "print('Malignant shape: {}\\n'.format(malignant.shape))\n",
    "\n",
    "benign = bc.data[bc.target == 1]\n",
    "print('Benign shape: {}\\n'.format(benign.shape))"
   ]
  },
  {
   "cell_type": "markdown",
   "id": "b6dc36a1-fed3-4e03-96c2-c17292cd91d1",
   "metadata": {},
   "source": [
    "## Plotting by labels\n",
    "\n",
    "The separate_data function that separates principal component data by class is incredibly useful for visualizing the components. We can use matplotlib to create nice plots of the separated data, using the first 2 columns of the 30 columns in bc.data after applying PCA."
   ]
  },
  {
   "cell_type": "code",
   "execution_count": 8,
   "id": "5da456a1-a56b-461b-a955-f0564912fa23",
   "metadata": {},
   "outputs": [
    {
     "name": "stdout",
     "output_type": "stream",
     "text": [
      "[[1160.1425737  -293.91754364]\n",
      " [1269.12244319   15.63018184]\n",
      " [ 995.79388896   39.15674324]\n",
      " ...\n",
      " [ 314.50175618   47.55352518]\n",
      " [1124.85811531   34.12922497]\n",
      " [-771.52762188  -88.64310636]]\n",
      "\n"
     ]
    },
    {
     "data": {
      "image/png": "[encoded data removed]",
      "text/plain": [
       "<Figure size 432x288 with 1 Axes>"
      ]
     },
     "metadata": {
      "needs_background": "light"
     },
     "output_type": "display_data"
    }
   ],
   "source": [
    "from sklearn.datasets import load_breast_cancer\n",
    "from sklearn.decomposition import PCA\n",
    "\n",
    "\n",
    "def get_label_info(component_data, labels,\n",
    "                   class_label, label_names):\n",
    "  label_name = label_names[class_label]\n",
    "  label_data = component_data[labels == class_label]\n",
    "  return (label_name, label_data)\n",
    "\n",
    "\n",
    "def separate_data(component_data, labels,\n",
    "                  label_names):\n",
    "  separated_data = []\n",
    "  \n",
    "  for class_label in range(len(label_names)):\n",
    "      separated_data.append(get_label_info(component_data, labels, class_label, label_names))\n",
    "\n",
    "  return separated_data\n",
    "\n",
    "\n",
    "bc = load_breast_cancer()\n",
    "pca_obj = PCA(n_components=2)\n",
    "component_data = pca_obj.fit_transform(bc.data)\n",
    "print('{}\\n'.format(component_data))\n",
    "\n",
    "labels = bc.target\n",
    "label_names = bc.target_names\n",
    "# Using the completed separate_data function\n",
    "separated_data = separate_data(component_data,\n",
    "                               labels, label_names)\n",
    "\n",
    "# Plotting the data\n",
    "import matplotlib.pyplot as plt\n",
    "for label_name, label_data in separated_data:\n",
    "  col1 = label_data[:, 0]  # 1st column (1st pr. comp.)\n",
    "  col2 = label_data[:, 1]  # 2nd column (2nd pr. comp.)\n",
    "  plt.scatter(col1, col2, label=label_name) # scatterplot\n",
    "plt.legend()  # adds legend to plot\n",
    "plt.title('Breast Cancer Dataset PCA Plot')\n",
    "plt.show()"
   ]
  },
  {
   "cell_type": "code",
   "execution_count": null,
   "id": "ba243321-1497-434a-9178-83501361966f",
   "metadata": {},
   "outputs": [],
   "source": []
  }
 ],
 "metadata": {
  "kernelspec": {
   "display_name": "Python 3 (ipykernel)",
   "language": "python",
   "name": "python3"
  },
  "language_info": {
   "codemirror_mode": {
    "name": "ipython",
    "version": 3
   },
   "file_extension": ".py",
   "mimetype": "text/x-python",
   "name": "python",
   "nbconvert_exporter": "python",
   "pygments_lexer": "ipython3",
   "version": "3.8.2"
  }
 },
 "nbformat": 4,
 "nbformat_minor": 5
}
