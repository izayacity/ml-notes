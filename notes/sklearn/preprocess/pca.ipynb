{
 "cells": [
  {
   "cell_type": "markdown",
   "id": "b7af0e26-a7be-47dd-ae49-12e3209e7d1b",
   "metadata": {},
   "source": [
    "## Dimensionality reduction\n",
    "\n",
    "Most datasets contain a large number of features, some of which are redundant or not informative. For example, in a dataset of basketball statistics, the total points and points per game for a player will (most of the time) tell the same story about the player's scoring prowess.\n",
    "\n",
    "When a dataset contains these types of correlated numeric features, we can perform principal component analysis (PCA, https://en.wikipedia.org/wiki/Principal_component_analysis) for dimensionality reduction (i.e. reducing the number of columns in the data array).\n",
    "\n",
    "PCA extracts the principal components of the dataset, which are an uncorrelated set of latent variables(https://en.wikipedia.org/wiki/Latent_variable) that encompass most of the information from the original dataset. Using a smaller set of principal components can make it a lot easier to use the dataset in statistical or machine learning models (especially when the original dataset contains many correlated features).\n",
    "\n",
    "## PCA in scikit-learn\n",
    "\n",
    "Like every other data transformation, we can apply PCA to a dataset in scikit-learn with a transformer, in this case the PCA module. When initializing the PCA module, we can use the n_components keyword to specify the number of principal components. The default setting is to extract m - 1 principal components, where m is the number of features in the dataset.\n",
    "\n",
    "In the code output below, notice that when PCA is applied with 4 principal components, the final column (last principal component) is all 0's. This means that there are actually only a maximum of three uncorrelated principal components that can be extracted."
   ]
  },
  {
   "cell_type": "code",
   "execution_count": 1,
   "id": "58c891a6-7b11-4bd7-b7bb-a1e1c7b5a2de",
   "metadata": {},
   "outputs": [
    {
     "name": "stdout",
     "output_type": "stream",
     "text": [
      "array([[-4.8600e+00,  4.6300e+00, -4.7000e-02,  0.0000e+00],\n",
      "       [-3.7990e+00, -1.3180e+00,  1.2700e-01,  0.0000e+00],\n",
      "       [-1.8630e+00, -4.2260e+00, -8.9000e-02,  0.0000e+00],\n",
      "       [ 1.0522e+01,  9.1400e-01,  9.0000e-03,  0.0000e+00]])\n",
      "\n",
      "array([[-4.8600e+00,  4.6300e+00, -4.7000e-02],\n",
      "       [-3.7990e+00, -1.3180e+00,  1.2700e-01],\n",
      "       [-1.8630e+00, -4.2260e+00, -8.9000e-02],\n",
      "       [ 1.0522e+01,  9.1400e-01,  9.0000e-03]])\n",
      "\n",
      "array([[-4.86 ,  4.63 ],\n",
      "       [-3.799, -1.318],\n",
      "       [-1.863, -4.226],\n",
      "       [10.522,  0.914]])\n",
      "\n"
     ]
    }
   ],
   "source": [
    "from sklearn.decomposition import PCA\n",
    "\n",
    "data = [[ 1.5,  3. ,  9. , -0.5,  1. ],\n",
    "       [ 2.2,  4.3,  3.5,  0.6,  2.7],\n",
    "       [ 3. ,  6.1,  1.1,  1.2,  4.2],\n",
    "       [ 8. , 16. ,  7.7, -1. ,  7.1]]\n",
    "pca_obj = PCA() # The value of n_component will be 4. As m is 5 and default is always m-1\n",
    "pc = pca_obj.fit_transform(data).round(3)\n",
    "print('{}\\n'.format(repr(pc)))\n",
    "\n",
    "pca_obj = PCA(n_components=3)\n",
    "pc = pca_obj.fit_transform(data).round(3)\n",
    "print('{}\\n'.format(repr(pc)))\n",
    "\n",
    "pca_obj = PCA(n_components=2)\n",
    "pc = pca_obj.fit_transform(data).round(3)\n",
    "print('{}\\n'.format(repr(pc)))"
   ]
  },
  {
   "cell_type": "code",
   "execution_count": null,
   "id": "0eda94b9-abe9-4146-8023-74008300ebdc",
   "metadata": {},
   "outputs": [],
   "source": []
  }
 ],
 "metadata": {
  "kernelspec": {
   "display_name": "Python 3 (ipykernel)",
   "language": "python",
   "name": "python3"
  },
  "language_info": {
   "codemirror_mode": {
    "name": "ipython",
    "version": 3
   },
   "file_extension": ".py",
   "mimetype": "text/x-python",
   "name": "python",
   "nbconvert_exporter": "python",
   "pygments_lexer": "ipython3",
   "version": "3.8.2"
  }
 },
 "nbformat": 4,
 "nbformat_minor": 5
}
