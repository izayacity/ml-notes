{
 "cells": [
  {
   "cell_type": "markdown",
   "id": "9c179989-c28c-40b5-a44f-fc0f12422a23",
   "metadata": {},
   "source": [
    "## Range scaling\n",
    "\n",
    "Apart from standardizing data, we can also scale data by compressing it into a fixed range. One of the biggest use cases for this is compressing data into the range [0, 1]. This allows us to view the data in terms of proportions, or percentages, based on the minimum and maximum values in the data.\n",
    "\n",
    "The formula for scaling based on a range is a two-step process. For a given data value, x, we first compute the proportion of the value with respect to the min and max of the data dmin and dmax, respectively).\n",
    "\n",
    "x_{prop} = (x - d_{min}) / (d_{max} - d_{min})\n",
    "\n",
    "The formula above computes the proportion of the data value, xprop. Note that this only works if not all the data values are the same (i.e. dmax ≠ dmin).\n",
    "\n",
    "We then use the proportion of the value to scale to the specified range, [rmin, rmax]. The formula below calculates the new scaled value, xscale.\n",
    "\n",
    "x_{scale} = x_{prop} * (r_{max} - r_{min}) + r_{min}\n",
    "\n",
    "## Range compression in scikit-learn\n",
    "\n",
    "The scikit-learn library provides a variety of transformers, modules that perform transformations on data. While in the previous chapter we used a single function, scale, to perform the data standardization, the remaining chapters will focus on using these transformer modules.\n",
    "\n",
    "The MinMaxScaler transformer performs the range compression using the previous formula. Specifically, it scales each feature (column) of the data to a given range (where the default range is [0, 1]).\n",
    "\n",
    "The code below shows how to use the MinMaxScaler (with the default range and a custom range).\n",
    "\n",
    "The MinMaxScaler object contains a function called fit_transform, which allows it to take in the input data array and then output the scaled data. The function is a combination of the object's fit and transform functions, where the former takes in an input data array and the latter transforms a (possibly different) array based on the data from the input to the fit function."
   ]
  },
  {
   "cell_type": "code",
   "execution_count": 1,
   "id": "1c176f08-c4e7-4c2b-8ed1-a5b37adf51c3",
   "metadata": {},
   "outputs": [
    {
     "name": "stdout",
     "output_type": "stream",
     "text": [
      "array([[0.22058824, 0.62702703],\n",
      "       [0.        , 0.38918919],\n",
      "       [1.        , 1.        ],\n",
      "       [0.36764706, 0.        ]])\n",
      "\n",
      "array([[-0.89705882,  1.13513514],\n",
      "       [-2.        , -0.05405405],\n",
      "       [ 3.        ,  3.        ],\n",
      "       [-0.16176471, -2.        ]])\n",
      "\n"
     ]
    }
   ],
   "source": [
    "from sklearn.preprocessing import MinMaxScaler\n",
    "\n",
    "data = [[ 1.2,  3.2],\n",
    "       [-0.3, -1.2],\n",
    "       [ 6.5, 10.1],\n",
    "       [ 2.2, -8.4]]\n",
    "\n",
    "default_scaler = MinMaxScaler() # the default range is [0,1]\n",
    "transformed = default_scaler.fit_transform(data)\n",
    "print('{}\\n'.format(repr(transformed)))\n",
    "\n",
    "custom_scaler = MinMaxScaler(feature_range=(-2, 3))\n",
    "transformed = custom_scaler.fit_transform(data)\n",
    "print('{}\\n'.format(repr(transformed)))"
   ]
  },
  {
   "cell_type": "code",
   "execution_count": null,
   "id": "eca42dc0-0b8c-4103-a10f-bd0b09587071",
   "metadata": {},
   "outputs": [],
   "source": []
  }
 ],
 "metadata": {
  "kernelspec": {
   "display_name": "Python 3 (ipykernel)",
   "language": "python",
   "name": "python3"
  },
  "language_info": {
   "codemirror_mode": {
    "name": "ipython",
    "version": 3
   },
   "file_extension": ".py",
   "mimetype": "text/x-python",
   "name": "python",
   "nbconvert_exporter": "python",
   "pygments_lexer": "ipython3",
   "version": "3.8.2"
  }
 },
 "nbformat": 4,
 "nbformat_minor": 5
}
