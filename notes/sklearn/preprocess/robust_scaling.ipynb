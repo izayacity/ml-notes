{
 "cells": [
  {
   "cell_type": "markdown",
   "id": "d43dca60-7982-4e78-8b86-a9079678402a",
   "metadata": {},
   "source": [
    "## Data outliers\n",
    "\n",
    "An important aspect of data that we have to deal with is outliers. In general terms, an outlier is a data point that is significantly further away from the other data points. For example, if we had watermelons of weights 5, 4, 6, 7, and 20 pounds, the 20 pound watermelon is an outlier.\n",
    "\n",
    "The data scaling methods from the previous two chapters are both affected by outliers. Data standardization uses each feature's mean and standard deviation, while ranged scaling uses the maximum and minimum feature values, meaning that they're both susceptible to being skewed by outlier values.\n",
    "\n",
    "We can robustly scale the data, i.e. avoid being affected by outliers, by using use the data's median and Interquartile Range (IQR). Since the median and IQR are percentile measurements of the data (50% for median, 25% to 75% for the IQR), they are not affected by outliers. For the scaling method, we just subtract the median from each data value then scale to the IQR.\n",
    "\n",
    "value = (value – median) / (p75 – p25)\n",
    "\n",
    "The resulting variable has a zero mean and median and a standard deviation of 1, although not skewed by outliers and the outliers are still present with the same relative relationships to other values.\n",
    "\n",
    "## Robust scaling with scikit-learn\n",
    "\n",
    "In scikit-learn, we perform robust scaling with the RobustScaler module. It is another transformer object, with the same fit, transform, and fit_transform functions described in the previous chapter.\n",
    "\n",
    "The robust scaler transform is available in the scikit-learn Python machine learning library via the RobustScaler class.\n",
    "- The “with_centering” argument controls whether the value is centered to zero (median is subtracted) and defaults to True.\n",
    "- The “with_scaling” argument controls whether the value is scaled to the IQR (standard deviation set to one) or not and defaults to True.\n",
    "\n",
    "Interestingly, the definition of the scaling range can be specified via the “quantile_range” argument. It takes a tuple of two integers between 0 and 100 and defaults to the percentile values of the IQR, specifically (25, 75). Changing this will change the definition of outliers and the scope of the scaling."
   ]
  },
  {
   "cell_type": "code",
   "execution_count": 1,
   "id": "e9f11b86-4483-45e6-80e2-61cc4fa7bc87",
   "metadata": {},
   "outputs": [
    {
     "name": "stdout",
     "output_type": "stream",
     "text": [
      "array([[ 0.        , -1.        ],\n",
      "       [ 0.27272727,  2.16666667],\n",
      "       [-0.93939394,  0.33333333],\n",
      "       [-1.12121212, -0.66666667],\n",
      "       [-0.12121212,  0.16666667],\n",
      "       [ 1.54545455, -1.33333333],\n",
      "       [-0.81818182, -0.33333333],\n",
      "       [ 0.06060606,  0.        ],\n",
      "       [ 0.18181818,  0.5       ]])\n",
      "\n"
     ]
    }
   ],
   "source": [
    "from sklearn.preprocessing import RobustScaler\n",
    "\n",
    "data = [[ 1.2,  2.3],\n",
    "       [ 2.1,  4.2],\n",
    "       [-1.9,  3.1],\n",
    "       [-2.5,  2.5],\n",
    "       [ 0.8,  3. ],\n",
    "       [ 6.3,  2.1],\n",
    "       [-1.5,  2.7],\n",
    "       [ 1.4,  2.9],\n",
    "       [ 1.8,  3.2]]\n",
    "robust_scaler = RobustScaler()\n",
    "transformed = robust_scaler.fit_transform(data)\n",
    "print('{}\\n'.format(repr(transformed)))"
   ]
  },
  {
   "cell_type": "code",
   "execution_count": null,
   "id": "79d59fee-a9bf-446e-9900-143e4408606f",
   "metadata": {},
   "outputs": [],
   "source": []
  }
 ],
 "metadata": {
  "kernelspec": {
   "display_name": "Python 3 (ipykernel)",
   "language": "python",
   "name": "python3"
  },
  "language_info": {
   "codemirror_mode": {
    "name": "ipython",
    "version": 3
   },
   "file_extension": ".py",
   "mimetype": "text/x-python",
   "name": "python",
   "nbconvert_exporter": "python",
   "pygments_lexer": "ipython3",
   "version": "3.8.2"
  }
 },
 "nbformat": 4,
 "nbformat_minor": 5
}
