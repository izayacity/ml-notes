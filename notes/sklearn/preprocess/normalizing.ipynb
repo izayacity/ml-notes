{
 "cells": [
  {
   "cell_type": "markdown",
   "id": "38a2fcd4-2d8f-4772-b8e0-15ca284f86f5",
   "metadata": {},
   "source": [
    "## L2 normalization\n",
    "\n",
    "So far, each of the scaling techniques we've used has been applied to the data features (i.e. columns). However, in certain cases we want to scale the individual data observations (i.e. rows). For instance, when clustering data we need to apply L2 normalization to each row, in order to calculate cosine similarity scores. The Clustering section will cover data clustering and cosine similarities in greater depth.\n",
    "\n",
    "L2 normalization applied to a particular row of a data array will divide each value in that row by the row's L2 norm. In general terms, the L2 norm of a row is just the square root of the sum of squared values for the row. In scikit-learn, the transformer module that implements L2 normalization is the Normalizer.\n",
    "\n",
    "![title](img/formula1.png)"
   ]
  },
  {
   "cell_type": "code",
   "execution_count": 1,
   "id": "e4aac3a3-0668-49fc-b914-a7f182839a72",
   "metadata": {},
   "outputs": [
    {
     "name": "stdout",
     "output_type": "stream",
     "text": [
      "array([[0.8       , 0.2       , 0.4       , 0.4       ],\n",
      "       [0.6       , 0.8       , 0.        , 0.        ],\n",
      "       [0.55513611, 0.39652579, 0.71374643, 0.15861032]])\n",
      "\n"
     ]
    }
   ],
   "source": [
    "from sklearn.preprocessing import Normalizer\n",
    "\n",
    "data = [[4, 1, 2, 2],\n",
    "       [3, 4, 0, 0],\n",
    "       [7, 5, 9, 2]]\n",
    "normalizer = Normalizer()\n",
    "transformed = normalizer.fit_transform(data)\n",
    "print('{}\\n'.format(repr(transformed)))"
   ]
  },
  {
   "cell_type": "code",
   "execution_count": null,
   "id": "f7b63afc-29ea-4987-afa4-9abfe882a2d9",
   "metadata": {},
   "outputs": [],
   "source": []
  }
 ],
 "metadata": {
  "kernelspec": {
   "display_name": "Python 3 (ipykernel)",
   "language": "python",
   "name": "python3"
  },
  "language_info": {
   "codemirror_mode": {
    "name": "ipython",
    "version": 3
   },
   "file_extension": ".py",
   "mimetype": "text/x-python",
   "name": "python",
   "nbconvert_exporter": "python",
   "pygments_lexer": "ipython3",
   "version": "3.8.2"
  }
 },
 "nbformat": 4,
 "nbformat_minor": 5
}
