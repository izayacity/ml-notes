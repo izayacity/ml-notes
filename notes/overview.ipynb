{
 "cells": [
  {
   "cell_type": "markdown",
   "id": "fc26ce78-c35a-403e-abe3-906fffad4ff1",
   "metadata": {
    "tags": []
   },
   "source": [
    "https://www.educative.io/module/lesson/ml-for-software-engineers/RM6BpGzA9v0\n",
    "\n",
    "Machine Learning is the field of study that gives computers the ability to learn without being explicitly programmed, and tell you something interesting about a set of data without having to write any custom code specific to the problem.\n",
    "\n",
    "# Main Components of Machine Learning\n",
    "- data\n",
    "\t- if the data is crappy, even the best algorithm won’t help.\n",
    "- feature\n",
    "\t- Features are often also called variables or parameters. These are essentially the factors for a machine to look at — the properties of the “object” in question\n",
    "- algorithms\n",
    "\t- Classification allows us to put data into different groups. The interesting thing is that the same classification algorithm used to recognize handwritten numbers could also be used to classify emails into spam and not-spam without changing a line of code!\n",
    "\t- Although the algorithm is the same, it’s fed different input data, so it comes up with different classification logic.\n",
    "\n",
    "# Applications\n",
    "- Virtual Personal Assistants: Siri, Cortana, Alexa, and Google Assistant.\n",
    "- Finance: Fraud detection, prediction, and execution of trades at speeds and volumes that humans can’t compete with.\n",
    "- Social Media: Face Recognition, People You May Know, Pages You Might Like.\n",
    "- Retail: Product Recommendations; maximization of revenue by learning customers’ habits.\n",
    "- Online customer support: Customer support representatives are being increasingly replaced by chatbots.\n",
    "- Medicine: Medical diagnosis, drug discovery, understanding of risk factors for diseases in large populations.\n",
    "- Search Results: When you search on Google, the backend keeps an eye on whether you clicked on the first result or went on to the second page -– the data is used to learn from mistakes so that relevant information can be found quicker next time.\n",
    "\n",
    "![title](img/applications.png)\n",
    "\n",
    "# Learning types\n",
    "- Supervised learning\n",
    "\t- Using labeled data to train a model. The labels for the training dataset represent the class/category that each data observation belongs to. After training, the model should be able to predict labels for new data observations (from the same population distribution as the training data).\n",
    "- Unsupervised Learning\n",
    "\t- Using unlabeled data to allow a model to learn relationships between data observations and pick up on underlying patterns. Most data in the world is unlabeled, which makes unsupervised learning a very useful method of machine learning.\n",
    "\n",
    "If it is possible to get large enough labeled training datasets, supervised learning is the way to go. However, it is often difficult to get fully labeled datasets, which is why many tasks require unsupervised learning or semi-supervised learning (a mix of supervised and unsupervised learning). Deciding which type of learning method to use is only the first step towards creating a machine learning model.\n",
    "\n",
    "# Steps of ML process\n",
    "- Data Collection\n",
    "\t- The process of extracting raw datasets for the machine learning task. This data can come from a variety of places, ranging from open-source online resources to paid crowdsourcing. The first step of the machine learning process is arguably the most important. If the data you collect is poor quality or irrelevant, then the model you train will be poor quality as well.\n",
    "- Data Processing and Preparation\n",
    "\t- Once you’ve gathered the relevant data, you need to process it and make sure that it is in a usable format for training a machine learning model. This includes handling missing data, dealing with outliers, etc.\n",
    "- Feature Engineering\n",
    "\t- Once you’ve collected and processed your dataset, you will likely need to transform some of the features (and sometimes even drop some features) in order to optimize how well a model can be trained on the data.\n",
    "- Model Selection\n",
    "\t- Based on the dataset, you will choose which model architecture to use. This is one of the main tasks of industry engineers. Rather than attempting to come up with a completely novel model architecture, most tasks can be thoroughly performed with an existing architecture (or combination of model architectures).\n",
    "- Model Training and Data Pipeline\n",
    "\t- After selecting the model architecture, you will create a data pipeline for training the model. This means creating a continuous stream of batched data observations to efficiently train the model. Since training can take a long time, you want your data pipeline to be as efficient as possible.\n",
    "- Model Validation\n",
    "\t- After training the model for a sufficient amount of time, you will need to validate the model’s performance on a held-out portion of the overall dataset. This data needs to come from the same underlying distribution as the training dataset, but needs to be different data that the model has not seen before.\n",
    "- Model Persistence\n",
    "\t- Finally, after training and validating the model’s performance, you need to be able to properly save the model weights and possibly push the model to production. This means setting up a process with which new users can easily use your pre-trained model to make predictions."
   ]
  },
  {
   "cell_type": "code",
   "execution_count": null,
   "id": "feb58a05-c418-4f1c-a476-5ddccd3e562e",
   "metadata": {},
   "outputs": [],
   "source": []
  }
 ],
 "metadata": {
  "kernelspec": {
   "display_name": "Python 3 (ipykernel)",
   "language": "python",
   "name": "python3"
  },
  "language_info": {
   "codemirror_mode": {
    "name": "ipython",
    "version": 3
   },
   "file_extension": ".py",
   "mimetype": "text/x-python",
   "name": "python",
   "nbconvert_exporter": "python",
   "pygments_lexer": "ipython3",
   "version": "3.8.2"
  }
 },
 "nbformat": 4,
 "nbformat_minor": 5
}
